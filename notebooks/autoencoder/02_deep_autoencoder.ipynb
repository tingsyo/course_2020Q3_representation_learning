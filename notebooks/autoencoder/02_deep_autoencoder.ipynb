{
 "cells": [
  {
   "cell_type": "markdown",
   "metadata": {},
   "source": [
    "## Deep autoencoder\n",
    "\n",
    "We do not have to limit ourselves to a single layer as encoder or decoder, we could instead use a stack of layers, such as:"
   ]
  },
  {
   "cell_type": "code",
   "execution_count": 1,
   "metadata": {},
   "outputs": [
    {
     "name": "stderr",
     "output_type": "stream",
     "text": [
      "Using TensorFlow backend.\n"
     ]
    }
   ],
   "source": [
    "%matplotlib inline\n",
    "import matplotlib.pyplot as plt\n",
    "import numpy as np\n",
    "from keras.layers import Input, Dense\n",
    "from keras.models import Model\n",
    "from keras import regularizers\n",
    "from keras.datasets import mnist"
   ]
  },
  {
   "cell_type": "code",
   "execution_count": 2,
   "metadata": {},
   "outputs": [
    {
     "name": "stdout",
     "output_type": "stream",
     "text": [
      "(60000, 784)\n",
      "(10000, 784)\n"
     ]
    }
   ],
   "source": [
    "# Data\n",
    "# Let's prepare our input data. We're using MNIST digits, and we're discarding the labels \n",
    "# (since we're only interested in encoding/decoding the input images).\n",
    "(x_train, _), (x_test, _) = mnist.load_data()\n",
    "\n",
    "# We will normalize all values between 0 and 1 and we will flatten the 28x28 images into vectors of size 784.\n",
    "x_train = x_train.astype('float32') / 255.\n",
    "x_test = x_test.astype('float32') / 255.\n",
    "x_train = x_train.reshape((len(x_train), np.prod(x_train.shape[1:])))\n",
    "x_test = x_test.reshape((len(x_test), np.prod(x_test.shape[1:])))\n",
    "print(x_train.shape)\n",
    "print(x_test.shape)"
   ]
  },
  {
   "cell_type": "code",
   "execution_count": 3,
   "metadata": {},
   "outputs": [],
   "source": [
    "input_img = Input(shape=(784,))\n",
    "encoded = Dense(128, activation='relu')(input_img)\n",
    "encoded = Dense(64, activation='relu')(encoded)\n",
    "encoded = Dense(32, activation='relu')(encoded)\n",
    "\n",
    "decoded = Dense(64, activation='relu')(encoded)\n",
    "decoded = Dense(128, activation='relu')(decoded)\n",
    "decoded = Dense(784, activation='sigmoid')(decoded)"
   ]
  },
  {
   "cell_type": "code",
   "execution_count": 4,
   "metadata": {},
   "outputs": [
    {
     "name": "stdout",
     "output_type": "stream",
     "text": [
      "Train on 60000 samples, validate on 10000 samples\n",
      "Epoch 1/100\n",
      "60000/60000 [==============================] - 3s 47us/step - loss: 0.3255 - val_loss: 0.2638\n",
      "Epoch 2/100\n",
      "60000/60000 [==============================] - 1s 16us/step - loss: 0.2581 - val_loss: 0.2541\n",
      "Epoch 3/100\n",
      "60000/60000 [==============================] - 1s 16us/step - loss: 0.2449 - val_loss: 0.2349\n",
      "Epoch 4/100\n",
      "60000/60000 [==============================] - 1s 17us/step - loss: 0.2237 - val_loss: 0.2130\n",
      "Epoch 5/100\n",
      "60000/60000 [==============================] - 1s 17us/step - loss: 0.2076 - val_loss: 0.1993\n",
      "Epoch 6/100\n",
      "60000/60000 [==============================] - 1s 17us/step - loss: 0.1932 - val_loss: 0.1896\n",
      "Epoch 7/100\n",
      "60000/60000 [==============================] - 1s 16us/step - loss: 0.1848 - val_loss: 0.1795\n",
      "Epoch 8/100\n",
      "60000/60000 [==============================] - 1s 16us/step - loss: 0.1794 - val_loss: 0.1747\n",
      "Epoch 9/100\n",
      "60000/60000 [==============================] - 1s 16us/step - loss: 0.1749 - val_loss: 0.1732\n",
      "Epoch 10/100\n",
      "60000/60000 [==============================] - 1s 17us/step - loss: 0.1703 - val_loss: 0.1668\n",
      "Epoch 11/100\n",
      "60000/60000 [==============================] - 1s 16us/step - loss: 0.1660 - val_loss: 0.1629\n",
      "Epoch 12/100\n",
      "60000/60000 [==============================] - 1s 16us/step - loss: 0.1619 - val_loss: 0.1573\n",
      "Epoch 13/100\n",
      "60000/60000 [==============================] - 1s 16us/step - loss: 0.1579 - val_loss: 0.1550\n",
      "Epoch 14/100\n",
      "60000/60000 [==============================] - 1s 17us/step - loss: 0.1544 - val_loss: 0.1532\n",
      "Epoch 15/100\n",
      "60000/60000 [==============================] - 1s 17us/step - loss: 0.1514 - val_loss: 0.1499\n",
      "Epoch 16/100\n",
      "60000/60000 [==============================] - 1s 16us/step - loss: 0.1488 - val_loss: 0.1486\n",
      "Epoch 17/100\n",
      "60000/60000 [==============================] - 1s 17us/step - loss: 0.1464 - val_loss: 0.1447\n",
      "Epoch 18/100\n",
      "60000/60000 [==============================] - 1s 16us/step - loss: 0.1441 - val_loss: 0.1416\n",
      "Epoch 19/100\n",
      "60000/60000 [==============================] - 1s 16us/step - loss: 0.1422 - val_loss: 0.1383\n",
      "Epoch 20/100\n",
      "60000/60000 [==============================] - 1s 16us/step - loss: 0.1404 - val_loss: 0.1381\n",
      "Epoch 21/100\n",
      "60000/60000 [==============================] - 1s 17us/step - loss: 0.1389 - val_loss: 0.1376\n",
      "Epoch 22/100\n",
      "60000/60000 [==============================] - 1s 16us/step - loss: 0.1373 - val_loss: 0.1351\n",
      "Epoch 23/100\n",
      "60000/60000 [==============================] - 1s 16us/step - loss: 0.1357 - val_loss: 0.1336\n",
      "Epoch 24/100\n",
      "60000/60000 [==============================] - 1s 16us/step - loss: 0.1344 - val_loss: 0.1334\n",
      "Epoch 25/100\n",
      "60000/60000 [==============================] - 1s 16us/step - loss: 0.1331 - val_loss: 0.1309\n",
      "Epoch 26/100\n",
      "60000/60000 [==============================] - 1s 17us/step - loss: 0.1319 - val_loss: 0.1325\n",
      "Epoch 27/100\n",
      "60000/60000 [==============================] - 1s 16us/step - loss: 0.1308 - val_loss: 0.1278\n",
      "Epoch 28/100\n",
      "60000/60000 [==============================] - 1s 17us/step - loss: 0.1298 - val_loss: 0.1265\n",
      "Epoch 29/100\n",
      "60000/60000 [==============================] - 1s 16us/step - loss: 0.1286 - val_loss: 0.1259\n",
      "Epoch 30/100\n",
      "60000/60000 [==============================] - 1s 16us/step - loss: 0.1274 - val_loss: 0.1255\n",
      "Epoch 31/100\n",
      "60000/60000 [==============================] - 1s 17us/step - loss: 0.1263 - val_loss: 0.1263\n",
      "Epoch 32/100\n",
      "60000/60000 [==============================] - 1s 16us/step - loss: 0.1254 - val_loss: 0.1240\n",
      "Epoch 33/100\n",
      "60000/60000 [==============================] - 1s 16us/step - loss: 0.1243 - val_loss: 0.1231\n",
      "Epoch 34/100\n",
      "60000/60000 [==============================] - 1s 16us/step - loss: 0.1235 - val_loss: 0.1226\n",
      "Epoch 35/100\n",
      "60000/60000 [==============================] - 1s 16us/step - loss: 0.1226 - val_loss: 0.1200\n",
      "Epoch 36/100\n",
      "60000/60000 [==============================] - 1s 17us/step - loss: 0.1218 - val_loss: 0.1192\n",
      "Epoch 37/100\n",
      "60000/60000 [==============================] - 1s 16us/step - loss: 0.1207 - val_loss: 0.1214\n",
      "Epoch 38/100\n",
      "60000/60000 [==============================] - 1s 17us/step - loss: 0.1200 - val_loss: 0.1202\n",
      "Epoch 39/100\n",
      "60000/60000 [==============================] - 1s 17us/step - loss: 0.1190 - val_loss: 0.1173\n",
      "Epoch 40/100\n",
      "60000/60000 [==============================] - 1s 17us/step - loss: 0.1183 - val_loss: 0.1172\n",
      "Epoch 41/100\n",
      "60000/60000 [==============================] - 1s 18us/step - loss: 0.1175 - val_loss: 0.1151\n",
      "Epoch 42/100\n",
      "60000/60000 [==============================] - 1s 17us/step - loss: 0.1168 - val_loss: 0.1157\n",
      "Epoch 43/100\n",
      "60000/60000 [==============================] - 1s 17us/step - loss: 0.1161 - val_loss: 0.1172\n",
      "Epoch 44/100\n",
      "60000/60000 [==============================] - 1s 18us/step - loss: 0.1154 - val_loss: 0.1121\n",
      "Epoch 45/100\n",
      "60000/60000 [==============================] - 1s 17us/step - loss: 0.1147 - val_loss: 0.1144\n",
      "Epoch 46/100\n",
      "60000/60000 [==============================] - 1s 17us/step - loss: 0.1143 - val_loss: 0.1128\n",
      "Epoch 47/100\n",
      "60000/60000 [==============================] - 1s 17us/step - loss: 0.1137 - val_loss: 0.1116\n",
      "Epoch 48/100\n",
      "60000/60000 [==============================] - 1s 17us/step - loss: 0.1132 - val_loss: 0.1119\n",
      "Epoch 49/100\n",
      "60000/60000 [==============================] - 1s 17us/step - loss: 0.1128 - val_loss: 0.1100\n",
      "Epoch 50/100\n",
      "60000/60000 [==============================] - 1s 17us/step - loss: 0.1123 - val_loss: 0.1112\n",
      "Epoch 51/100\n",
      "60000/60000 [==============================] - 1s 17us/step - loss: 0.1119 - val_loss: 0.1091\n",
      "Epoch 52/100\n",
      "60000/60000 [==============================] - 1s 17us/step - loss: 0.1115 - val_loss: 0.1085\n",
      "Epoch 53/100\n",
      "60000/60000 [==============================] - 1s 17us/step - loss: 0.1111 - val_loss: 0.1115\n",
      "Epoch 54/100\n",
      "60000/60000 [==============================] - 1s 17us/step - loss: 0.1107 - val_loss: 0.1094\n",
      "Epoch 55/100\n",
      "60000/60000 [==============================] - 1s 17us/step - loss: 0.1104 - val_loss: 0.1091\n",
      "Epoch 56/100\n",
      "60000/60000 [==============================] - 1s 17us/step - loss: 0.1102 - val_loss: 0.1082\n",
      "Epoch 57/100\n",
      "60000/60000 [==============================] - 1s 17us/step - loss: 0.1097 - val_loss: 0.1099\n",
      "Epoch 58/100\n",
      "60000/60000 [==============================] - 1s 17us/step - loss: 0.1094 - val_loss: 0.1077\n",
      "Epoch 59/100\n",
      "60000/60000 [==============================] - 1s 17us/step - loss: 0.1091 - val_loss: 0.1075\n",
      "Epoch 60/100\n",
      "60000/60000 [==============================] - 1s 17us/step - loss: 0.1088 - val_loss: 0.1081\n",
      "Epoch 61/100\n",
      "60000/60000 [==============================] - 1s 17us/step - loss: 0.1085 - val_loss: 0.1072\n",
      "Epoch 62/100\n",
      "60000/60000 [==============================] - 1s 17us/step - loss: 0.1082 - val_loss: 0.1069\n",
      "Epoch 63/100\n",
      "60000/60000 [==============================] - 1s 17us/step - loss: 0.1079 - val_loss: 0.1068\n",
      "Epoch 64/100\n",
      "60000/60000 [==============================] - 1s 17us/step - loss: 0.1076 - val_loss: 0.1052\n",
      "Epoch 65/100\n",
      "60000/60000 [==============================] - 1s 17us/step - loss: 0.1074 - val_loss: 0.1057\n",
      "Epoch 66/100\n",
      "60000/60000 [==============================] - 1s 17us/step - loss: 0.1069 - val_loss: 0.1060\n",
      "Epoch 67/100\n",
      "60000/60000 [==============================] - 1s 17us/step - loss: 0.1067 - val_loss: 0.1063\n",
      "Epoch 68/100\n",
      "60000/60000 [==============================] - 1s 17us/step - loss: 0.1064 - val_loss: 0.1050\n",
      "Epoch 69/100\n",
      "60000/60000 [==============================] - 1s 17us/step - loss: 0.1060 - val_loss: 0.1052\n",
      "Epoch 70/100\n",
      "60000/60000 [==============================] - 1s 17us/step - loss: 0.1057 - val_loss: 0.1048\n",
      "Epoch 71/100\n",
      "60000/60000 [==============================] - 1s 17us/step - loss: 0.1056 - val_loss: 0.1032\n",
      "Epoch 72/100\n",
      "60000/60000 [==============================] - 1s 17us/step - loss: 0.1052 - val_loss: 0.1045\n",
      "Epoch 73/100\n",
      "60000/60000 [==============================] - 1s 17us/step - loss: 0.1049 - val_loss: 0.1035\n",
      "Epoch 74/100\n",
      "60000/60000 [==============================] - 1s 17us/step - loss: 0.1045 - val_loss: 0.1041\n",
      "Epoch 75/100\n",
      "60000/60000 [==============================] - 1s 17us/step - loss: 0.1044 - val_loss: 0.1032\n",
      "Epoch 76/100\n",
      "60000/60000 [==============================] - 1s 17us/step - loss: 0.1042 - val_loss: 0.1033\n",
      "Epoch 77/100\n"
     ]
    },
    {
     "name": "stdout",
     "output_type": "stream",
     "text": [
      "60000/60000 [==============================] - 1s 17us/step - loss: 0.1038 - val_loss: 0.1025\n",
      "Epoch 78/100\n",
      "60000/60000 [==============================] - 1s 17us/step - loss: 0.1036 - val_loss: 0.1005\n",
      "Epoch 79/100\n",
      "60000/60000 [==============================] - 1s 17us/step - loss: 0.1033 - val_loss: 0.1013\n",
      "Epoch 80/100\n",
      "60000/60000 [==============================] - 1s 17us/step - loss: 0.1031 - val_loss: 0.1019\n",
      "Epoch 81/100\n",
      "60000/60000 [==============================] - 1s 17us/step - loss: 0.1029 - val_loss: 0.1009\n",
      "Epoch 82/100\n",
      "60000/60000 [==============================] - 1s 17us/step - loss: 0.1027 - val_loss: 0.1038\n",
      "Epoch 83/100\n",
      "60000/60000 [==============================] - 1s 17us/step - loss: 0.1026 - val_loss: 0.1019\n",
      "Epoch 84/100\n",
      "60000/60000 [==============================] - 1s 17us/step - loss: 0.1023 - val_loss: 0.1023\n",
      "Epoch 85/100\n",
      "60000/60000 [==============================] - 1s 17us/step - loss: 0.1020 - val_loss: 0.1014\n",
      "Epoch 86/100\n",
      "60000/60000 [==============================] - 1s 17us/step - loss: 0.1017 - val_loss: 0.0991\n",
      "Epoch 87/100\n",
      "60000/60000 [==============================] - 1s 17us/step - loss: 0.1016 - val_loss: 0.1019\n",
      "Epoch 88/100\n",
      "60000/60000 [==============================] - 1s 17us/step - loss: 0.1013 - val_loss: 0.1014\n",
      "Epoch 89/100\n",
      "60000/60000 [==============================] - 1s 17us/step - loss: 0.1012 - val_loss: 0.1012\n",
      "Epoch 90/100\n",
      "60000/60000 [==============================] - 1s 17us/step - loss: 0.1008 - val_loss: 0.1003\n",
      "Epoch 91/100\n",
      "60000/60000 [==============================] - 1s 17us/step - loss: 0.1009 - val_loss: 0.0986\n",
      "Epoch 92/100\n",
      "60000/60000 [==============================] - 1s 17us/step - loss: 0.1007 - val_loss: 0.0991\n",
      "Epoch 93/100\n",
      "60000/60000 [==============================] - 1s 17us/step - loss: 0.1004 - val_loss: 0.1006\n",
      "Epoch 94/100\n",
      "60000/60000 [==============================] - 1s 17us/step - loss: 0.1003 - val_loss: 0.1012\n",
      "Epoch 95/100\n",
      "60000/60000 [==============================] - 1s 17us/step - loss: 0.1001 - val_loss: 0.0980\n",
      "Epoch 96/100\n",
      "60000/60000 [==============================] - 1s 17us/step - loss: 0.1000 - val_loss: 0.1001\n",
      "Epoch 97/100\n",
      "60000/60000 [==============================] - 1s 17us/step - loss: 0.0997 - val_loss: 0.0989\n",
      "Epoch 98/100\n",
      "60000/60000 [==============================] - 1s 17us/step - loss: 0.0995 - val_loss: 0.0998\n",
      "Epoch 99/100\n",
      "60000/60000 [==============================] - 1s 17us/step - loss: 0.0995 - val_loss: 0.0981\n",
      "Epoch 100/100\n",
      "60000/60000 [==============================] - 1s 17us/step - loss: 0.0993 - val_loss: 0.1003\n"
     ]
    },
    {
     "data": {
      "text/plain": [
       "<keras.callbacks.History at 0x1fe803ddfd0>"
      ]
     },
     "execution_count": 4,
     "metadata": {},
     "output_type": "execute_result"
    }
   ],
   "source": [
    "autoencoder = Model(input_img, decoded)\n",
    "autoencoder.compile(optimizer='adadelta', loss='binary_crossentropy')\n",
    "\n",
    "autoencoder.fit(x_train, x_train,\n",
    "                epochs=100,\n",
    "                batch_size=256,\n",
    "                shuffle=True,\n",
    "                validation_data=(x_test, x_test))"
   ]
  },
  {
   "cell_type": "code",
   "execution_count": 16,
   "metadata": {},
   "outputs": [
    {
     "data": {
      "text/plain": [
       "7"
      ]
     },
     "execution_count": 16,
     "metadata": {},
     "output_type": "execute_result"
    }
   ],
   "source": [
    "len(autoencoder.layers)"
   ]
  },
  {
   "cell_type": "code",
   "execution_count": 17,
   "metadata": {},
   "outputs": [
    {
     "data": {
      "image/png": "[encoded data removed]",
      "text/plain": [
       "<Figure size 1440x288 with 20 Axes>"
      ]
     },
     "metadata": {
      "needs_background": "light"
     },
     "output_type": "display_data"
    }
   ],
   "source": [
    "# encode and decode some digits\n",
    "# note that we take them from the *test* set\n",
    "decoded_imgs = autoencoder.predict(x_test)\n",
    "\n",
    "n = 10  # how many digits we will display\n",
    "plt.figure(figsize=(20, 4))\n",
    "for i in range(n):\n",
    "    # display original\n",
    "    ax = plt.subplot(2, n, i + 1)\n",
    "    plt.imshow(x_test[i].reshape(28, 28))\n",
    "    plt.gray()\n",
    "    ax.get_xaxis().set_visible(False)\n",
    "    ax.get_yaxis().set_visible(False)\n",
    "\n",
    "    # display reconstruction\n",
    "    ax = plt.subplot(2, n, i + 1 + n)\n",
    "    plt.imshow(decoded_imgs[i].reshape(28, 28))\n",
    "    plt.gray()\n",
    "    ax.get_xaxis().set_visible(False)\n",
    "    ax.get_yaxis().set_visible(False)\n",
    "plt.show()"
   ]
  },
  {
   "cell_type": "code",
   "execution_count": null,
   "metadata": {},
   "outputs": [],
   "source": []
  }
 ],
 "metadata": {
  "kernelspec": {
   "display_name": "Python 3",
   "language": "python",
   "name": "python3"
  },
  "language_info": {
   "codemirror_mode": {
    "name": "ipython",
    "version": 3
   },
   "file_extension": ".py",
   "mimetype": "text/x-python",
   "name": "python",
   "nbconvert_exporter": "python",
   "pygments_lexer": "ipython3",
   "version": "3.6.7"
  }
 },
 "nbformat": 4,
 "nbformat_minor": 2
}
