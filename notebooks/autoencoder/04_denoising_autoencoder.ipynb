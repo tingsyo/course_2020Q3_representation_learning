{
 "cells": [
  {
   "cell_type": "markdown",
   "metadata": {},
   "source": [
    "## Denoising autoencoder\n",
    "\n",
    "Let's put our convolutional autoencoder to work on an image denoising problem. It's simple: we will train the autoencoder to map noisy digits images to clean digits images.\n",
    "\n",
    "Here's how we will generate synthetic noisy digits: we just apply a gaussian noise matrix and clip the images between 0 and 1."
   ]
  },
  {
   "cell_type": "code",
   "execution_count": 1,
   "metadata": {},
   "outputs": [
    {
     "name": "stderr",
     "output_type": "stream",
     "text": [
      "Using TensorFlow backend.\n"
     ]
    }
   ],
   "source": [
    "# Load packages\n",
    "%matplotlib inline\n",
    "import matplotlib.pyplot as plt\n",
    "import numpy as np\n",
    "from keras.layers import Input, Dense, Conv2D, MaxPooling2D, UpSampling2D\n",
    "from keras.models import Model\n",
    "from keras import backend as K\n",
    "from keras import regularizers\n",
    "from keras.datasets import mnist"
   ]
  },
  {
   "cell_type": "code",
   "execution_count": 2,
   "metadata": {},
   "outputs": [],
   "source": [
    "# Data\n",
    "# Let's prepare our input data. We're using MNIST digits, and we're discarding the labels \n",
    "# (since we're only interested in encoding/decoding the input images).\n",
    "(x_train, _), (x_test, _) = mnist.load_data()\n",
    "\n",
    "# We will normalize all values between 0 and 1 and we will flatten the 28x28 images into vectors of size 784.\n",
    "x_train = x_train.astype('float32') / 255.\n",
    "x_test = x_test.astype('float32') / 255.\n",
    "x_train = np.reshape(x_train, (len(x_train), 28, 28, 1))  # adapt this if using `channels_first` image data format\n",
    "x_test = np.reshape(x_test, (len(x_test), 28, 28, 1))  # adapt this if using `channels_first` image data format\n",
    "\n",
    "# Adding noises\n",
    "noise_factor = 0.5\n",
    "x_train_noisy = x_train + noise_factor * np.random.normal(loc=0.0, scale=1.0, size=x_train.shape) \n",
    "x_test_noisy = x_test + noise_factor * np.random.normal(loc=0.0, scale=1.0, size=x_test.shape) \n",
    "\n",
    "x_train_noisy = np.clip(x_train_noisy, 0., 1.)\n",
    "x_test_noisy = np.clip(x_test_noisy, 0., 1.)"
   ]
  },
  {
   "cell_type": "code",
   "execution_count": 4,
   "metadata": {},
   "outputs": [
    {
     "data": {
      "image/png": "[encoded data removed]",
      "text/plain": [
       "<Figure size 1440x144 with 10 Axes>"
      ]
     },
     "metadata": {
      "needs_background": "light"
     },
     "output_type": "display_data"
    }
   ],
   "source": [
    "# Show noisy data\n",
    "n = 10\n",
    "plt.figure(figsize=(20, 2))\n",
    "for i in range(n):\n",
    "    ax = plt.subplot(1, n, i+1)\n",
    "    plt.imshow(x_test_noisy[i].reshape(28, 28))\n",
    "    plt.gray()\n",
    "    ax.get_xaxis().set_visible(False)\n",
    "    ax.get_yaxis().set_visible(False)\n",
    "plt.show()"
   ]
  },
  {
   "cell_type": "code",
   "execution_count": 5,
   "metadata": {},
   "outputs": [],
   "source": [
    "# Model\n",
    "input_img = Input(shape=(28, 28, 1))  # adapt this if using `channels_first` image data format\n",
    "\n",
    "x = Conv2D(32, (3, 3), activation='relu', padding='same')(input_img)\n",
    "x = MaxPooling2D((2, 2), padding='same')(x)\n",
    "x = Conv2D(32, (3, 3), activation='relu', padding='same')(x)\n",
    "encoded = MaxPooling2D((2, 2), padding='same')(x)\n",
    "\n",
    "# at this point the representation is (7, 7, 32)\n",
    "\n",
    "x = Conv2D(32, (3, 3), activation='relu', padding='same')(encoded)\n",
    "x = UpSampling2D((2, 2))(x)\n",
    "x = Conv2D(32, (3, 3), activation='relu', padding='same')(x)\n",
    "x = UpSampling2D((2, 2))(x)\n",
    "decoded = Conv2D(1, (3, 3), activation='sigmoid', padding='same')(x)\n",
    "\n",
    "autoencoder = Model(input_img, decoded)\n",
    "autoencoder.compile(optimizer='adadelta', loss='binary_crossentropy')\n"
   ]
  },
  {
   "cell_type": "code",
   "execution_count": 6,
   "metadata": {},
   "outputs": [
    {
     "name": "stdout",
     "output_type": "stream",
     "text": [
      "Train on 60000 samples, validate on 10000 samples\n",
      "Epoch 1/100\n",
      "60000/60000 [==============================] - 8s 133us/step - loss: 0.1836 - val_loss: 0.1244\n",
      "Epoch 2/100\n",
      "60000/60000 [==============================] - 5s 86us/step - loss: 0.1195 - val_loss: 0.1107\n",
      "Epoch 3/100\n",
      "60000/60000 [==============================] - 5s 87us/step - loss: 0.1123 - val_loss: 0.1093\n",
      "Epoch 4/100\n",
      "60000/60000 [==============================] - 5s 86us/step - loss: 0.1086 - val_loss: 0.1102\n",
      "Epoch 5/100\n",
      "60000/60000 [==============================] - 5s 85us/step - loss: 0.1062 - val_loss: 0.1072\n",
      "Epoch 6/100\n",
      "60000/60000 [==============================] - 5s 86us/step - loss: 0.1046 - val_loss: 0.1052\n",
      "Epoch 7/100\n",
      "60000/60000 [==============================] - 5s 91us/step - loss: 0.1034 - val_loss: 0.1029\n",
      "Epoch 8/100\n",
      "60000/60000 [==============================] - 5s 87us/step - loss: 0.1025 - val_loss: 0.1013\n",
      "Epoch 9/100\n",
      "60000/60000 [==============================] - 5s 85us/step - loss: 0.1015 - val_loss: 0.1006\n",
      "Epoch 10/100\n",
      "60000/60000 [==============================] - 5s 85us/step - loss: 0.1011 - val_loss: 0.0997\n",
      "Epoch 11/100\n",
      "60000/60000 [==============================] - 6s 96us/step - loss: 0.1005 - val_loss: 0.0993\n",
      "Epoch 12/100\n",
      "60000/60000 [==============================] - 6s 95us/step - loss: 0.1000 - val_loss: 0.0993\n",
      "Epoch 13/100\n",
      "60000/60000 [==============================] - 6s 93us/step - loss: 0.0997 - val_loss: 0.0990\n",
      "Epoch 14/100\n",
      "60000/60000 [==============================] - 6s 92us/step - loss: 0.0994 - val_loss: 0.0982\n",
      "Epoch 15/100\n",
      "60000/60000 [==============================] - 6s 93us/step - loss: 0.0990 - val_loss: 0.0985\n",
      "Epoch 16/100\n",
      "60000/60000 [==============================] - 6s 92us/step - loss: 0.0988 - val_loss: 0.0976\n",
      "Epoch 17/100\n",
      "60000/60000 [==============================] - 6s 93us/step - loss: 0.0987 - val_loss: 0.0983\n",
      "Epoch 18/100\n",
      "60000/60000 [==============================] - 6s 93us/step - loss: 0.0984 - val_loss: 0.0985\n",
      "Epoch 19/100\n",
      "60000/60000 [==============================] - 6s 93us/step - loss: 0.0981 - val_loss: 0.0977\n",
      "Epoch 20/100\n",
      "60000/60000 [==============================] - 6s 93us/step - loss: 0.0980 - val_loss: 0.0971\n",
      "Epoch 21/100\n",
      "60000/60000 [==============================] - 6s 93us/step - loss: 0.0978 - val_loss: 0.0973\n",
      "Epoch 22/100\n",
      "60000/60000 [==============================] - 6s 93us/step - loss: 0.0975 - val_loss: 0.0986\n",
      "Epoch 23/100\n",
      "60000/60000 [==============================] - 6s 93us/step - loss: 0.0974 - val_loss: 0.0974\n",
      "Epoch 24/100\n",
      "60000/60000 [==============================] - 6s 93us/step - loss: 0.0972 - val_loss: 0.0963\n",
      "Epoch 25/100\n",
      "60000/60000 [==============================] - 6s 93us/step - loss: 0.0972 - val_loss: 0.0963\n",
      "Epoch 26/100\n",
      "60000/60000 [==============================] - 6s 93us/step - loss: 0.0970 - val_loss: 0.0962\n",
      "Epoch 27/100\n",
      "60000/60000 [==============================] - 6s 93us/step - loss: 0.0969 - val_loss: 0.0977\n",
      "Epoch 28/100\n",
      "60000/60000 [==============================] - 6s 92us/step - loss: 0.0967 - val_loss: 0.0963\n",
      "Epoch 29/100\n",
      "60000/60000 [==============================] - 6s 92us/step - loss: 0.0966 - val_loss: 0.0966\n",
      "Epoch 30/100\n",
      "60000/60000 [==============================] - 5s 88us/step - loss: 0.0966 - val_loss: 0.0974\n",
      "Epoch 31/100\n",
      "60000/60000 [==============================] - 5s 88us/step - loss: 0.0965 - val_loss: 0.0962\n",
      "Epoch 32/100\n",
      "60000/60000 [==============================] - 5s 88us/step - loss: 0.0963 - val_loss: 0.0960\n",
      "Epoch 33/100\n",
      "60000/60000 [==============================] - 5s 90us/step - loss: 0.0963 - val_loss: 0.0959\n",
      "Epoch 34/100\n",
      "60000/60000 [==============================] - 5s 90us/step - loss: 0.0962 - val_loss: 0.0955\n",
      "Epoch 35/100\n",
      "60000/60000 [==============================] - 5s 92us/step - loss: 0.0960 - val_loss: 0.0959\n",
      "Epoch 36/100\n",
      "60000/60000 [==============================] - 5s 91us/step - loss: 0.0960 - val_loss: 0.0955\n",
      "Epoch 37/100\n",
      "60000/60000 [==============================] - 5s 91us/step - loss: 0.0959 - val_loss: 0.0962\n",
      "Epoch 38/100\n",
      "60000/60000 [==============================] - 5s 91us/step - loss: 0.0959 - val_loss: 0.0956\n",
      "Epoch 39/100\n",
      "60000/60000 [==============================] - 5s 91us/step - loss: 0.0958 - val_loss: 0.0953\n",
      "Epoch 40/100\n",
      "60000/60000 [==============================] - 5s 91us/step - loss: 0.0957 - val_loss: 0.0956\n",
      "Epoch 41/100\n",
      "60000/60000 [==============================] - 5s 91us/step - loss: 0.0957 - val_loss: 0.0951\n",
      "Epoch 42/100\n",
      "60000/60000 [==============================] - 5s 91us/step - loss: 0.0956 - val_loss: 0.0950\n",
      "Epoch 43/100\n",
      "60000/60000 [==============================] - 5s 91us/step - loss: 0.0956 - val_loss: 0.0954\n",
      "Epoch 44/100\n",
      "60000/60000 [==============================] - 5s 88us/step - loss: 0.0956 - val_loss: 0.0951\n",
      "Epoch 45/100\n",
      "60000/60000 [==============================] - 5s 89us/step - loss: 0.0955 - val_loss: 0.0948\n",
      "Epoch 46/100\n",
      "60000/60000 [==============================] - 5s 89us/step - loss: 0.0954 - val_loss: 0.0950\n",
      "Epoch 47/100\n",
      "60000/60000 [==============================] - 5s 88us/step - loss: 0.0954 - val_loss: 0.0954\n",
      "Epoch 48/100\n",
      "60000/60000 [==============================] - 5s 91us/step - loss: 0.0953 - val_loss: 0.0954\n",
      "Epoch 49/100\n",
      "60000/60000 [==============================] - 5s 88us/step - loss: 0.0953 - val_loss: 0.0952\n",
      "Epoch 50/100\n",
      "60000/60000 [==============================] - 5s 90us/step - loss: 0.0952 - val_loss: 0.0949\n",
      "Epoch 51/100\n",
      "60000/60000 [==============================] - 5s 86us/step - loss: 0.0952 - val_loss: 0.0955\n",
      "Epoch 52/100\n",
      "60000/60000 [==============================] - 5s 88us/step - loss: 0.0951 - val_loss: 0.0947\n",
      "Epoch 53/100\n",
      "60000/60000 [==============================] - 5s 87us/step - loss: 0.0951 - val_loss: 0.0949\n",
      "Epoch 54/100\n",
      "60000/60000 [==============================] - 5s 90us/step - loss: 0.0950 - val_loss: 0.0948\n",
      "Epoch 55/100\n",
      "60000/60000 [==============================] - 5s 86us/step - loss: 0.0950 - val_loss: 0.0948\n",
      "Epoch 56/100\n",
      "60000/60000 [==============================] - 5s 84us/step - loss: 0.0950 - val_loss: 0.0950\n",
      "Epoch 57/100\n",
      "60000/60000 [==============================] - 5s 84us/step - loss: 0.0950 - val_loss: 0.0946\n",
      "Epoch 58/100\n",
      "60000/60000 [==============================] - 5s 84us/step - loss: 0.0950 - val_loss: 0.0945\n",
      "Epoch 59/100\n",
      "60000/60000 [==============================] - 5s 83us/step - loss: 0.0949 - val_loss: 0.0944\n",
      "Epoch 60/100\n",
      "60000/60000 [==============================] - 5s 83us/step - loss: 0.0949 - val_loss: 0.0963\n",
      "Epoch 61/100\n",
      "60000/60000 [==============================] - 5s 86us/step - loss: 0.0948 - val_loss: 0.0944\n",
      "Epoch 62/100\n",
      "60000/60000 [==============================] - 5s 84us/step - loss: 0.0948 - val_loss: 0.0948\n",
      "Epoch 63/100\n",
      "60000/60000 [==============================] - 5s 83us/step - loss: 0.0947 - val_loss: 0.0956\n",
      "Epoch 64/100\n",
      "60000/60000 [==============================] - 5s 84us/step - loss: 0.0947 - val_loss: 0.0945\n",
      "Epoch 65/100\n",
      "60000/60000 [==============================] - 5s 85us/step - loss: 0.0947 - val_loss: 0.0942\n",
      "Epoch 66/100\n",
      "60000/60000 [==============================] - 5s 83us/step - loss: 0.0947 - val_loss: 0.0944\n",
      "Epoch 67/100\n",
      "60000/60000 [==============================] - 5s 83us/step - loss: 0.0946 - val_loss: 0.0950\n",
      "Epoch 68/100\n",
      "60000/60000 [==============================] - 5s 85us/step - loss: 0.0947 - val_loss: 0.0948\n",
      "Epoch 69/100\n",
      "60000/60000 [==============================] - 5s 84us/step - loss: 0.0946 - val_loss: 0.0958\n",
      "Epoch 70/100\n",
      "60000/60000 [==============================] - 5s 84us/step - loss: 0.0946 - val_loss: 0.0957\n",
      "Epoch 71/100\n",
      "60000/60000 [==============================] - 5s 84us/step - loss: 0.0946 - val_loss: 0.0943\n",
      "Epoch 72/100\n",
      "60000/60000 [==============================] - 5s 84us/step - loss: 0.0945 - val_loss: 0.0946\n",
      "Epoch 73/100\n",
      "60000/60000 [==============================] - 5s 83us/step - loss: 0.0945 - val_loss: 0.0942\n",
      "Epoch 74/100\n",
      "60000/60000 [==============================] - 5s 85us/step - loss: 0.0945 - val_loss: 0.0941\n",
      "Epoch 75/100\n",
      "60000/60000 [==============================] - 5s 84us/step - loss: 0.0945 - val_loss: 0.0941\n",
      "Epoch 76/100\n",
      "60000/60000 [==============================] - 5s 83us/step - loss: 0.0945 - val_loss: 0.0946\n",
      "Epoch 77/100\n"
     ]
    },
    {
     "name": "stdout",
     "output_type": "stream",
     "text": [
      "60000/60000 [==============================] - 5s 84us/step - loss: 0.0945 - val_loss: 0.0944\n",
      "Epoch 78/100\n",
      "60000/60000 [==============================] - 5s 83us/step - loss: 0.0944 - val_loss: 0.0942\n",
      "Epoch 79/100\n",
      "60000/60000 [==============================] - 5s 84us/step - loss: 0.0944 - val_loss: 0.0940\n",
      "Epoch 80/100\n",
      "60000/60000 [==============================] - 5s 84us/step - loss: 0.0943 - val_loss: 0.0942\n",
      "Epoch 81/100\n",
      "60000/60000 [==============================] - 5s 84us/step - loss: 0.0944 - val_loss: 0.0941\n",
      "Epoch 82/100\n",
      "60000/60000 [==============================] - 5s 84us/step - loss: 0.0943 - val_loss: 0.0941\n",
      "Epoch 83/100\n",
      "60000/60000 [==============================] - 5s 85us/step - loss: 0.0943 - val_loss: 0.0943\n",
      "Epoch 84/100\n",
      "60000/60000 [==============================] - 5s 84us/step - loss: 0.0943 - val_loss: 0.0940\n",
      "Epoch 85/100\n",
      "60000/60000 [==============================] - 5s 84us/step - loss: 0.0942 - val_loss: 0.0940\n",
      "Epoch 86/100\n",
      "60000/60000 [==============================] - 5s 86us/step - loss: 0.0942 - val_loss: 0.0940\n",
      "Epoch 87/100\n",
      "60000/60000 [==============================] - 5s 87us/step - loss: 0.0942 - val_loss: 0.0950\n",
      "Epoch 88/100\n",
      "60000/60000 [==============================] - 5s 88us/step - loss: 0.0942 - val_loss: 0.0941\n",
      "Epoch 89/100\n",
      "60000/60000 [==============================] - 5s 90us/step - loss: 0.0942 - val_loss: 0.0945\n",
      "Epoch 90/100\n",
      "60000/60000 [==============================] - 5s 88us/step - loss: 0.0942 - val_loss: 0.0940\n",
      "Epoch 91/100\n",
      "60000/60000 [==============================] - 5s 84us/step - loss: 0.0942 - val_loss: 0.0942\n",
      "Epoch 92/100\n",
      "60000/60000 [==============================] - 5s 88us/step - loss: 0.0941 - val_loss: 0.0940\n",
      "Epoch 93/100\n",
      "60000/60000 [==============================] - 5s 88us/step - loss: 0.0941 - val_loss: 0.0941\n",
      "Epoch 94/100\n",
      "60000/60000 [==============================] - 5s 88us/step - loss: 0.0940 - val_loss: 0.0938\n",
      "Epoch 95/100\n",
      "60000/60000 [==============================] - 5s 90us/step - loss: 0.0940 - val_loss: 0.0946\n",
      "Epoch 96/100\n",
      "60000/60000 [==============================] - 5s 89us/step - loss: 0.0940 - val_loss: 0.0939\n",
      "Epoch 97/100\n",
      "60000/60000 [==============================] - 5s 88us/step - loss: 0.0941 - val_loss: 0.0939\n",
      "Epoch 98/100\n",
      "60000/60000 [==============================] - 5s 89us/step - loss: 0.0940 - val_loss: 0.0939\n",
      "Epoch 99/100\n",
      "60000/60000 [==============================] - 5s 90us/step - loss: 0.0940 - val_loss: 0.0944\n",
      "Epoch 100/100\n",
      "60000/60000 [==============================] - 5s 89us/step - loss: 0.0940 - val_loss: 0.0941\n"
     ]
    },
    {
     "data": {
      "text/plain": [
       "<keras.callbacks.History at 0x296fe592e48>"
      ]
     },
     "execution_count": 6,
     "metadata": {},
     "output_type": "execute_result"
    }
   ],
   "source": [
    "# Training\n",
    "autoencoder.fit(x_train_noisy, x_train,\n",
    "                epochs=100,\n",
    "                batch_size=128,\n",
    "                shuffle=True,\n",
    "                validation_data=(x_test_noisy, x_test))"
   ]
  },
  {
   "cell_type": "code",
   "execution_count": 7,
   "metadata": {},
   "outputs": [
    {
     "data": {
      "image/png": "[encoded data removed]",
      "text/plain": [
       "<Figure size 1440x288 with 20 Axes>"
      ]
     },
     "metadata": {
      "needs_background": "light"
     },
     "output_type": "display_data"
    }
   ],
   "source": [
    "# encode and decode some digits\n",
    "# note that we take them from the *test* set\n",
    "decoded_imgs = autoencoder.predict(x_test_noisy)\n",
    "\n",
    "n = 10  # how many digits we will display\n",
    "plt.figure(figsize=(20, 4))\n",
    "for i in range(n):\n",
    "    # display original\n",
    "    ax = plt.subplot(2, n, i + 1)\n",
    "    plt.imshow(x_test_noisy[i].reshape(28, 28))\n",
    "    plt.gray()\n",
    "    ax.get_xaxis().set_visible(False)\n",
    "    ax.get_yaxis().set_visible(False)\n",
    "\n",
    "    # display reconstruction\n",
    "    ax = plt.subplot(2, n, i + 1 + n)\n",
    "    plt.imshow(decoded_imgs[i].reshape(28, 28))\n",
    "    plt.gray()\n",
    "    ax.get_xaxis().set_visible(False)\n",
    "    ax.get_yaxis().set_visible(False)\n",
    "plt.show()"
   ]
  },
  {
   "cell_type": "code",
   "execution_count": 8,
   "metadata": {},
   "outputs": [
    {
     "name": "stdout",
     "output_type": "stream",
     "text": [
      "_________________________________________________________________\n",
      "Layer (type)                 Output Shape              Param #   \n",
      "=================================================================\n",
      "input_1 (InputLayer)         (None, 28, 28, 1)         0         \n",
      "_________________________________________________________________\n",
      "conv2d_1 (Conv2D)            (None, 28, 28, 32)        320       \n",
      "_________________________________________________________________\n",
      "max_pooling2d_1 (MaxPooling2 (None, 14, 14, 32)        0         \n",
      "_________________________________________________________________\n",
      "conv2d_2 (Conv2D)            (None, 14, 14, 32)        9248      \n",
      "_________________________________________________________________\n",
      "max_pooling2d_2 (MaxPooling2 (None, 7, 7, 32)          0         \n",
      "_________________________________________________________________\n",
      "conv2d_3 (Conv2D)            (None, 7, 7, 32)          9248      \n",
      "_________________________________________________________________\n",
      "up_sampling2d_1 (UpSampling2 (None, 14, 14, 32)        0         \n",
      "_________________________________________________________________\n",
      "conv2d_4 (Conv2D)            (None, 14, 14, 32)        9248      \n",
      "_________________________________________________________________\n",
      "up_sampling2d_2 (UpSampling2 (None, 28, 28, 32)        0         \n",
      "_________________________________________________________________\n",
      "conv2d_5 (Conv2D)            (None, 28, 28, 1)         289       \n",
      "=================================================================\n",
      "Total params: 28,353\n",
      "Trainable params: 28,353\n",
      "Non-trainable params: 0\n",
      "_________________________________________________________________\n"
     ]
    }
   ],
   "source": [
    "autoencoder.summary()"
   ]
  },
  {
   "cell_type": "code",
   "execution_count": null,
   "metadata": {},
   "outputs": [],
   "source": []
  }
 ],
 "metadata": {
  "kernelspec": {
   "display_name": "Python 3",
   "language": "python",
   "name": "python3"
  },
  "language_info": {
   "codemirror_mode": {
    "name": "ipython",
    "version": 3
   },
   "file_extension": ".py",
   "mimetype": "text/x-python",
   "name": "python",
   "nbconvert_exporter": "python",
   "pygments_lexer": "ipython3",
   "version": "3.6.7"
  }
 },
 "nbformat": 4,
 "nbformat_minor": 2
}
