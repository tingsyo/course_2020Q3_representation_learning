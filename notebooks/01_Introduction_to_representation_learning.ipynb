{
 "cells": [
  {
   "cell_type": "markdown",
   "metadata": {
    "slideshow": {
     "slide_type": "slide"
    }
   },
   "source": [
    "# A Hands-on Introduction of Representation Learning\n",
    "\n",
    "\n",
    "### with applications in geoscience data\n",
    "\n",
    "\n",
    "2020.Q3"
   ]
  },
  {
   "cell_type": "markdown",
   "metadata": {
    "slideshow": {
     "slide_type": "slide"
    }
   },
   "source": [
    "# Why do We Need Representations?\n",
    "\n",
    "- Well, mainly because no one asked me to talk about anything else.\n",
    "\n",
    "- We are drawn by **BIG** data\n",
    "\n",
    "    - We need to reduce the **dimensionality** of the data \n",
    "    - We need **meaningful** features instead of the raw data\n",
    "\n",
    "- Learning representation from data is an approximation to the concept of **knowledge**\n"
   ]
  },
  {
   "cell_type": "markdown",
   "metadata": {
    "slideshow": {
     "slide_type": "slide"
    }
   },
   "source": [
    "# What is a Representation?\n",
    "\n",
    "- Given the weather map below, will it rain in the following 12 hours? \n",
    "- What is your reasoning?\n",
    "\n",
    "<img src='./images/2020-0913-0000_SFCcombo.jpg' width='35%' class='center'/>"
   ]
  },
  {
   "cell_type": "markdown",
   "metadata": {
    "slideshow": {
     "slide_type": "slide"
    }
   },
   "source": [
    "<img src='images/2020-09-13_2000.QZJ8.grd2.jpg' width='40%' class='center'/>"
   ]
  },
  {
   "cell_type": "markdown",
   "metadata": {
    "slideshow": {
     "slide_type": "slide"
    }
   },
   "source": [
    "# From Data to Knowledge\n",
    "\n",
    "<img src='images/DIKW_hierarchy.png' width='40%' class='center'/>"
   ]
  },
  {
   "cell_type": "markdown",
   "metadata": {
    "slideshow": {
     "slide_type": "slide"
    }
   },
   "source": [
    "# From Data to Knowledge\n",
    "\n",
    "<img src='images/level_of_abstraction_on_data.png' width='60%' class='center'/>"
   ]
  },
  {
   "cell_type": "markdown",
   "metadata": {
    "slideshow": {
     "slide_type": "slide"
    }
   },
   "source": [
    "# What is Representation Learning?\n",
    "\n",
    "- From Wikipedia:\n",
    "> In machine learning, **feature learning** or **representation learning** is a set of techniques that allows a system to **automatically** discover the representations needed for feature detection or classification from raw data. This replaces manual feature engineering and allows a machine to both learn the features and use them to perform a specific task.\n"
   ]
  },
  {
   "cell_type": "markdown",
   "metadata": {
    "slideshow": {
     "slide_type": "slide"
    }
   },
   "source": [
    "# What is Representation Learning?\n",
    "\n",
    "- Synonyms:\n",
    "\n",
    "    - Dimension Reduction\n",
    "    - Feature Engineering\n",
    "    - Manifold Learning\n",
    "\n",
    "- **Representation Learning** is the modern name used in the deep learning era."
   ]
  },
  {
   "cell_type": "markdown",
   "metadata": {
    "slideshow": {
     "slide_type": "slide"
    }
   },
   "source": [
    "# Two Aspects\n",
    "\n",
    "- To reduce the dimensionality\n",
    "\n",
    "    - Compressing the data while keeping important information\n",
    "\n",
    "- To learn meaningful representations\n",
    "\n",
    "    - What is **meaningful**?\n"
   ]
  },
  {
   "cell_type": "markdown",
   "metadata": {
    "slideshow": {
     "slide_type": "slide"
    }
   },
   "source": [
    "# Topics to Cover\n",
    "\n",
    "- PCA and FA\n",
    "- Auto-Encoder\n",
    "- Variational Auto-Encoder\n",
    "- Generative Adversary Network (GAN)\n",
    "\n",
    "### (optional)\n",
    "- Graph theory and relavant algorithms in short\n",
    "- Graph representation"
   ]
  },
  {
   "cell_type": "markdown",
   "metadata": {
    "slideshow": {
     "slide_type": "slide"
    }
   },
   "source": [
    "## References\n",
    "- [Feature learning | wikipedia](https://en.wikipedia.org/wiki/Feature_learning)\n",
    "- [An introduction to representation learning | opencourse.com](https://opensource.com/article/17/9/representation-learning)\n",
    "- [An overview on data representation learning: From traditional feature learning to recent deep learning](https://www.sciencedirect.com/science/article/pii/S2405918816300459)"
   ]
  },
  {
   "cell_type": "code",
   "execution_count": null,
   "metadata": {},
   "outputs": [],
   "source": []
  }
 ],
 "metadata": {
  "celltoolbar": "Slideshow",
  "kernelspec": {
   "display_name": "Python 3",
   "language": "python",
   "name": "python3"
  },
  "language_info": {
   "codemirror_mode": {
    "name": "ipython",
    "version": 3
   },
   "file_extension": ".py",
   "mimetype": "text/x-python",
   "name": "python",
   "nbconvert_exporter": "python",
   "pygments_lexer": "ipython3",
   "version": "3.7.6"
  }
 },
 "nbformat": 4,
 "nbformat_minor": 4
}
