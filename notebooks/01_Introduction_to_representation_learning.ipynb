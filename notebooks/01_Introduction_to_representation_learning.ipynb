{
 "cells": [
  {
   "cell_type": "markdown",
   "metadata": {},
   "source": [
    "## References\n",
    "- [Feature learning | wikipedia](https://en.wikipedia.org/wiki/Feature_learning)\n",
    "- [An introduction to representation learning | opencourse.com](https://opensource.com/article/17/9/representation-learning)\n",
    "- [An overview on data representation learning: From traditional feature learning to recent deep learning](https://www.sciencedirect.com/science/article/pii/S2405918816300459)"
   ]
  },
  {
   "cell_type": "code",
   "execution_count": null,
   "metadata": {},
   "outputs": [],
   "source": []
  }
 ],
 "metadata": {
  "kernelspec": {
   "display_name": "Python 3",
   "language": "python",
   "name": "python3"
  },
  "language_info": {
   "codemirror_mode": {
    "name": "ipython",
    "version": 3
   },
   "file_extension": ".py",
   "mimetype": "text/x-python",
   "name": "python",
   "nbconvert_exporter": "python",
   "pygments_lexer": "ipython3",
   "version": "3.7.6"
  }
 },
 "nbformat": 4,
 "nbformat_minor": 4
}
