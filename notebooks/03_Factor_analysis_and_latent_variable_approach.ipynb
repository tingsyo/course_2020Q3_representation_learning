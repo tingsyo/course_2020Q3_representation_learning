{
 "cells": [
  {
   "cell_type": "markdown",
   "metadata": {},
   "source": [
    "# Latent Variable Approach: Factor Analysis\n",
    "\n",
    "In this notebook, we will use [Factor Analysis (FA)](https://en.wikipedia.org/wiki/Factor_analysis) to introduce the [latent variable](https://en.wikipedia.org/wiki/Latent_variable) approach.\n",
    "\n",
    "\n",
    "\n",
    "## Latent Variable\n",
    "\n",
    "In statistics, **latent variables** are variables that are not directly observed but are rather *inferred* (through a mathematical model) from other variables that are observed (directly measured). Mathematical models that aim to explain observed variables in terms of latent variables are called latent variable models. Latent variable models are used in many disciplines, including psychology, demography, economics, engineering, medicine, physics, machine learning/artificial intelligence, bioinformatics, chemometrics, natural language processing, econometrics, management and the social sciences.\n",
    "\n",
    "\n",
    "### Hidden variables vs. hypothetical variables\n",
    "\n",
    "Latent variables may correspond to aspects of physical reality. These could in principle be measured, but may not be for practical reasons. In this situation, the term *hidden variables* is commonly used (reflecting the fact that the variables are meaningful, but not observable). Other latent variables correspond to abstract concepts, like categories, behavioral or mental states, or data structures. The terms *hypothetical variables* or *hypothetical constructs* may be used in these situations.\n",
    "\n",
    "\n",
    "### Redue data dimension into symbolic space\n",
    "\n",
    "The use of latent variables can serve to reduce the dimensionality of data. Many observable variables can be aggregated in a model to represent an underlying concept, making it easier to understand the data. In this sense, they serve a function similar to that of scientific theories. At the same time, latent variables link observable (\"sub-symbolic\") data in the real world to symbolic data in the modeled world.\n",
    "\n",
    "\n",
    "## Examples\n",
    "\n",
    "### Personality traits (psychology)\n",
    "\n",
    "In psychological trait theory, the famous **[Big Five personality traits](https://en.wikipedia.org/wiki/Big_Five_personality_traits)** also known as the **five-factor model (FFM)** and the **OCEAN model**, is a suggested taxonomy, or grouping, for personality traits, developed from the 1980s onwards. \n",
    "\n",
    "When **factor analysis** is applied to personality survey data, it reveals semantic associations: some words used to describe aspects of personality are often applied to the same person. \n",
    "\n",
    "For example, someone described as conscientious is more likely to be described as \"always prepared\" rather than \"messy\". These associations suggest five broad dimensions used in common language to describe the human personality and psyche.\n",
    "\n",
    "The theory identifies five factors:\n",
    "- openness to experience (inventive/curious vs. consistent/cautious) 開放性\n",
    "- conscientiousness (efficient/organized vs. extravagant/careless) 盡責性\n",
    "- extraversion (outgoing/energetic vs. solitary/reserved) 外向性\n",
    "- agreeableness (friendly/compassionate vs. challenging/callous) 親和性\n",
    "- neuroticism (sensitive/nervous vs. resilient/confident) 情緒不穩定性\n",
    "\n",
    "<img src='https://upload.wikimedia.org/wikipedia/commons/thumb/0/0c/Wiki-grafik_peats-de_big_five_ENG.png/390px-Wiki-grafik_peats-de_big_five_ENG.png' />\n",
    "\n",
    "\n",
    "\n",
    "### Quality of life (economics)\n",
    "\n",
    "**[Quality of life (QOL)](https://en.wikipedia.org/wiki/Quality_of_life)**  is the general well-being of individuals and societies, outlining negative and positive features of life. QOL is a latent variable which cannot be measured directly so observable variables are used to infer quality of life. Observable variables to measure quality of life include wealth, employment, environment, physical and mental health, education, recreation and leisure time, and social belonging.\n",
    "\n",
    "\n",
    "\n",
    "\n",
    "### Geochemical exploration\n",
    "\n",
    "[Vijay S.Tripathi (1979)](https://www.sciencedirect.com/science/article/abs/pii/0375674279900049) applied **factor analysis** on the chemical compositions of soil samples (10 chemical elements) and derived 4 factors. Hunt and Gilkes (1992) used similar approach and resulted in a *soil textural triangle*. (further details in [Measuring Soil Texture in the Laboratory](http://www.soilquality.org.au/factsheets/soil-texture-measuring-in-the-lab))\n",
    "\n",
    "<img src='https://s3.amazonaws.com/soilquality-production/resources/112/original/Phys_-_Meas_Soil_Text_Lab_Fig3.PNG?1390461933' />\n",
    "\n",
    "As shown in the soil textural triangle, by applying factor analysis we can better categorize soil types.\n",
    "\n",
    "\n"
   ]
  },
  {
   "cell_type": "code",
   "execution_count": null,
   "metadata": {},
   "outputs": [],
   "source": []
  }
 ],
 "metadata": {
  "kernelspec": {
   "display_name": "Python 3",
   "language": "python",
   "name": "python3"
  },
  "language_info": {
   "codemirror_mode": {
    "name": "ipython",
    "version": 3
   },
   "file_extension": ".py",
   "mimetype": "text/x-python",
   "name": "python",
   "nbconvert_exporter": "python",
   "pygments_lexer": "ipython3",
   "version": "3.7.7"
  }
 },
 "nbformat": 4,
 "nbformat_minor": 4
}
