{
 "cells": [
  {
   "cell_type": "markdown",
   "metadata": {},
   "source": [
    "# Principle Component Analysis\n",
    "\n",
    "In this notebook, we will show some examples of [Principle Component Analysis (PCA)](https://en.wikipedia.org/wiki/Principal_component_analysis) and its modern variations.\n",
    "\n",
    "## Outline\n",
    "- What is PCA?\n",
    "- Some Simple Examples\n",
    "- Perform PCA with Python\n",
    "  - [MNIST dataset](https://towardsdatascience.com/pca-using-python-scikit-learn-e653f8989e60)\n",
    "- What if the data is too big?\n",
    "  - Randomized PCA\n",
    "  - Incremental PCA\n",
    "\n"
   ]
  },
  {
   "cell_type": "code",
   "execution_count": null,
   "metadata": {},
   "outputs": [],
   "source": []
  }
 ],
 "metadata": {
  "kernelspec": {
   "display_name": "Python 3",
   "language": "python",
   "name": "python3"
  },
  "language_info": {
   "codemirror_mode": {
    "name": "ipython",
    "version": 3
   },
   "file_extension": ".py",
   "mimetype": "text/x-python",
   "name": "python",
   "nbconvert_exporter": "python",
   "pygments_lexer": "ipython3",
   "version": "3.7.7"
  }
 },
 "nbformat": 4,
 "nbformat_minor": 4
}
