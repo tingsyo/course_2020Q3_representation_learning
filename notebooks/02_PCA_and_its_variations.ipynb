{
 "cells": [
  {
   "cell_type": "markdown",
   "metadata": {},
   "source": [
    "# Principle Component Analysis\n",
    "\n",
    "In this notebook, we will show some examples of [Principle Component Analysis (PCA)](https://en.wikipedia.org/wiki/Principal_component_analysis) and its modern variations.\n",
    "\n",
    "## Outline\n",
    "- Introduction to PCA ([slides](https://github.com/tingsyo/course_2020Q3_representation_learning/blob/master/notebooks/02_PCA_andits_variations.pptx))\n",
    "- PCA with the MNIST dataset\n",
    "- PCA with NOAA-GridSat-B1\n"
   ]
  },
  {
   "cell_type": "markdown",
   "metadata": {},
   "source": [
    "## Introduction to PCA ([slides](https://github.com/tingsyo/course_2020Q3_representation_learning/blob/master/notebooks/02_PCA_andits_variations.pptx))"
   ]
  },
  {
   "cell_type": "markdown",
   "metadata": {},
   "source": [
    "## PCA with the MNIST dataset\n",
    "\n",
    "### MNIST\n",
    "- MNIST 是一個手寫數字的圖像資料集，經常用於圖像辨識的基本範例。\n",
    "- MNIST 資料集可至 [THE MNIST DATABASE](http://yann.lecun.com/exdb/mnist/)下載。\n",
    "- 完整版的 MNIST 資料集包含 60000 個訓練圖片和 10000 個測試圖片，每個圖片大小是 28 * 28 像素。\n",
    "- Python 的 scikit-learn 套件內建了簡易版的 [MNIST dataset](https://scikit-learn.org/stable/modules/generated/sklearn.datasets.load_digits.html#sklearn.datasets.load_digits)\n",
    "\n",
    "|MNIST in sklearn|-|\n",
    "|-----------|------------|\n",
    "|Classes\t|10|\n",
    "|Samples per class\t|~180|\n",
    "|Samples total\t|1797|\n",
    "|Dimensionality\t|64|\n",
    "|Features\t|integers 0-16|\n",
    "\n",
    "\n",
    "首先，我們來讀取 scikit-learn 內建的 MNIST dataset，依據[使用手冊](https://scikit-learn.org/stable/modules/generated/sklearn.datasets.load_digits.html#sklearn.datasets.load_digits)的說明，會提供一個 1797\\*64 和一個 1797\\*1 的 numpy.Array，前者是 1797 張 8\\*8 的影像，而後者是每一張影像所寫的「數字」。"
   ]
  },
  {
   "cell_type": "code",
   "execution_count": 1,
   "metadata": {},
   "outputs": [
    {
     "name": "stdout",
     "output_type": "stream",
     "text": [
      "(1797, 64)\n",
      "(1797,)\n",
      "col_0  count\n",
      "row_0       \n",
      "0        178\n",
      "1        182\n",
      "2        177\n",
      "3        183\n",
      "4        181\n",
      "5        182\n",
      "6        181\n",
      "7        179\n",
      "8        174\n",
      "9        180\n"
     ]
    }
   ],
   "source": [
    "%matplotlib inline\n",
    "\n",
    "import numpy as np\n",
    "import pandas as pd\n",
    "import matplotlib.pyplot as plt\n",
    "from sklearn.decomposition import PCA\n",
    "from sklearn import datasets\n",
    "\n",
    "# The digits dataset\n",
    "digits = datasets.load_digits()\n",
    "print(digits.data.shape)\n",
    "print(digits.target.shape)\n",
    "print(pd.crosstab(digits.target,'count'))"
   ]
  },
  {
   "cell_type": "markdown",
   "metadata": {},
   "source": [
    "接著，我們來看看資料集裡圖片的長相："
   ]
  },
  {
   "cell_type": "code",
   "execution_count": 2,
   "metadata": {},
   "outputs": [
    {
     "data": {
      "image/png": "[encoded data removed]",
      "text/plain": [
       "<Figure size 432x288 with 10 Axes>"
      ]
     },
     "metadata": {
      "needs_background": "light"
     },
     "output_type": "display_data"
    }
   ],
   "source": [
    "# Create a 2*5 plots for each digit\n",
    "fig, axes = plt.subplots(2, 5, sharex=True, sharey=True, squeeze=False)\n",
    "\n",
    "# Loop through each class\n",
    "for i in range(10):\n",
    "    # Retrieve the first image of the given digit\n",
    "    img = digits.data[(digits.target==i)][0]\n",
    "    x = i // 5    # Put the digit to the right row/col\n",
    "    y = i % 5\n",
    "    axes[x,y].imshow(img.reshape(8,8), cmap='gray')\n",
    "    axes[x,y].axis('off')\n",
    "    axes[x,y].set_title(str(i))"
   ]
  },
  {
   "cell_type": "markdown",
   "metadata": {},
   "source": [
    "所以，我們的 digits.data 資料集，是把每張 8\\*8 像素的影像扁平化（[`numpy.flatten()`](https://docs.scipy.org/doc/numpy-1.15.0/reference/generated/numpy.ndarray.flatten.html)），成為長度為 64 的向量，我們可以把每個像素想像成一個變項 $X_i$，如果我們對這個 1797\\*64 的矩陣做 PCA，我們計算出的結果代表著什麼實際意義？\n",
    "\n",
    "讓我們先看看各主成分的解釋變異量："
   ]
  },
  {
   "cell_type": "code",
   "execution_count": 3,
   "metadata": {},
   "outputs": [
    {
     "data": {
      "image/png": "[encoded data removed]",
      "text/plain": [
       "<Figure size 432x288 with 1 Axes>"
      ]
     },
     "metadata": {
      "needs_background": "light"
     },
     "output_type": "display_data"
    }
   ],
   "source": [
    "pca_mnist = PCA(n_components=64, svd_solver='full')\n",
    "pca_mnist.fit(digits.data)\n",
    "# np.cumsum(X) will calculate the cumulative sum of X\n",
    "plt.bar(range(64),pca_mnist.explained_variance_ratio_)\n",
    "plt.plot(np.cumsum(pca_mnist.explained_variance_ratio_), 'r-')\n",
    "plt.show()"
   ]
  },
  {
   "cell_type": "markdown",
   "metadata": {},
   "source": [
    "我們可以很明顯的看到，與前面的幾個例子比較，手寫數字的影像資料，並不容易用少數的幾個主成分就解釋大部分的變異，至少要 13 個的主成分，才能解釋 80% 的變異量；要解釋90%的變異量則需要21個主成分。"
   ]
  },
  {
   "cell_type": "code",
   "execution_count": 4,
   "metadata": {},
   "outputs": [
    {
     "name": "stdout",
     "output_type": "stream",
     "text": [
      "[0.14890594 0.28509365 0.40303959 0.48713938 0.54496353 0.59413263\n",
      " 0.6372925  0.67390623 0.70743871 0.73822677 0.76195018 0.78467714\n",
      " 0.80289578 0.82063433 0.83530534 0.84940249 0.86258838 0.87506976\n",
      " 0.88524694 0.89430312 0.9031985  0.91116973 0.91884467 0.9260737\n",
      " 0.93303259 0.9389934  0.94474955 0.94990113 0.95479652 0.9590854\n",
      " 0.96282146 0.96635421 0.96972105 0.97300135 0.97608455 0.97902234\n",
      " 0.98158823 0.98386565 0.98608843 0.98820273 0.99010182 0.99168835\n",
      " 0.99319995 0.99460574 0.99577196 0.99684689 0.99781094 0.99858557\n",
      " 0.99914278 0.99954711 0.99975703 0.99983951 0.99989203 0.99994255\n",
      " 0.99997555 0.99998798 0.99999503 0.99999804 0.99999911 0.99999966\n",
      " 1.         1.         1.         1.        ]\n"
     ]
    }
   ],
   "source": [
    "print(np.cumsum(pca_mnist.explained_variance_ratio_))"
   ]
  },
  {
   "cell_type": "markdown",
   "metadata": {},
   "source": [
    "由於手寫數字的影像很容易透過視覺化來理解，恰好可以用來呈現「解釋 N% 的變異量」這件事情是什麼意思。在這裡我們需要用到一些數學，讓我們稍作解釋。\n",
    "\n",
    "在 PCA 的介紹中提到，我們有一組觀測資料 $X_{M x N}$，包含了對 $N$ 個變數的 $M$ 次觀測，經過 PCA 之後我們找到一組 complete linear transform $W_{N x N}$，使得新座標軸 $Y = X \\cdot W $，在 $Y$ 上資料的變異量由大至小排列。在 `sklearn.decomposition.PCA` 裡，$W$ 就是 `PCA.components_`，而原本資料在新座標軸的投影：\n",
    "\n",
    "PCA.transform(X) = (X - PCA.mean_) $\\cdot$ PCA.components_\n",
    "\n",
    "然而，如果我們只保留前 $K$ 個主成分的資訊（$K < N$），那麼這個線性轉換就不是 complete transform，而重新將新座標軸的資料投影回原座標軸，就達到了「濾波」的效果。要用 scikit-learn 做到這件事情，基本上有兩種作法：\n",
    "\n",
    "1. 在初始化 PCA 物件的時候，先指定 $K$ 或是「解釋變異量」：\n",
    "\n",
    "```\n",
    "pca = PCA(n_components=k)                        # or pca = PCA(0.90)\n",
    "pca.fit(data)                                    # Calculate the transformation matrix\n",
    "new_data = pca.transform(data)                   # Project the original data into the new coordinate\n",
    "filtered_data = pca.inverse_transform(new_data)  # , and then project back\n",
    "```\n",
    "\n",
    "2. 計算完整的 PCA，取前 $K$ 個主成分，然後做矩陣運算：\n",
    "\n",
    "```\n",
    "pca = PCA()\n",
    "pca.fit(data)                                                      # Calculate the transformation matrix\n",
    "new_data = np.dot(data - pca.mean_, pca.components_[:k].T)         # Project the original data into the new coordinate\n",
    "filtered_data = np.dot(new_data, pca.components_[:k]) + pca.mean_  # , and then project back\n",
    "```\n",
    "\n",
    "\n",
    "第一種方法比較簡單，但是當想要嘗試不同 $K$ 的效果時，每次更改 $K$ 就需要重新計算一次，在資料量大的時候效率會比較差。\n",
    "\n",
    "接下來，我們拿數字 4 和 8 來做例子："
   ]
  },
  {
   "cell_type": "code",
   "execution_count": 6,
   "metadata": {},
   "outputs": [],
   "source": [
    "# The original image of 4 and 8\n",
    "img4 = digits.data[(digits.target==4)][0]\n",
    "img8 = digits.data[(digits.target==8)][0]\n",
    "\n",
    "# Fit the PCA\n",
    "pca = PCA(n_components=64, svd_solver='full')\n",
    "pca.fit(digits.data)\n",
    "\n",
    "# Define a function of filter for repeated use\n",
    "def filter_pca(x, pca, k):\n",
    "    '''\n",
    "    x  : numpy array, the original data with shape(N,1).\n",
    "    pca: object, the fitted PCA with n_components = N.\n",
    "    k  : integer, the number of PCs to use.\n",
    "    '''\n",
    "    x_new = pca.transform(x)\n",
    "    x_filtered = np.dot(x_new[:,:k], pca.components_[:k]) + pca.mean_\n",
    "    return(x_filtered)"
   ]
  },
  {
   "cell_type": "code",
   "execution_count": 7,
   "metadata": {},
   "outputs": [
    {
     "data": {
      "image/png": "[encoded data removed]",
      "text/plain": [
       "<Figure size 432x288 with 12 Axes>"
      ]
     },
     "metadata": {
      "needs_background": "light"
     },
     "output_type": "display_data"
    }
   ],
   "source": [
    "# As shown in above, k required to explain 80%, 90%, 95%, and 99% variance are:\n",
    "ks = [5, 13, 21, 29, 41, 64]\n",
    "ps = ['50%', '80%', '90%', '95%', '99%', '100%']\n",
    "\n",
    "# Create a 2*5 plots for each digit\n",
    "fig, axes = plt.subplots(2, 6, squeeze=False)\n",
    "\n",
    "# Loop through each class\n",
    "for i in range(len(ks)):\n",
    "    # Calculate filtered images\n",
    "    img4f = filter_pca(img4.reshape(1,64), pca, ks[i])\n",
    "    img8f = filter_pca(img8.reshape(1,64), pca, ks[i])\n",
    "    # Plot\n",
    "    axes[0,i].imshow(img4f.reshape(8,8), cmap='gray')\n",
    "    axes[0,i].axis('off')\n",
    "    axes[0,i].set_title(ps[i])\n",
    "    axes[1,i].imshow(img8f.reshape(8,8), cmap='gray')\n",
    "    axes[1,i].axis('off')\n",
    "    \n",
    "plt.tight_layout()\n",
    "plt.show()"
   ]
  },
  {
   "cell_type": "markdown",
   "metadata": {},
   "source": [
    "## PCs of Hand-Written Digits\n",
    "\n",
    "從上面的例子，我們看到透過使用不同數目的主成分可以達到 filter 的效果，那麼這些主成分又是些什麼？"
   ]
  },
  {
   "cell_type": "code",
   "execution_count": 8,
   "metadata": {},
   "outputs": [
    {
     "data": {
      "image/png": "[encoded data removed]",
      "text/plain": [
       "<Figure size 432x288 with 12 Axes>"
      ]
     },
     "metadata": {
      "needs_background": "light"
     },
     "output_type": "display_data"
    }
   ],
   "source": [
    "# Create a 2*5 plots for each digit\n",
    "fig, axes = plt.subplots(2, 6, sharex=True, sharey=True, squeeze=False)\n",
    "\n",
    "# Loop through each class\n",
    "for i in range(12):\n",
    "    # Retrieve the first image of the given digit\n",
    "    pc = pca.components_[i,:]\n",
    "    x = i // 6    # Put the digit to the right row/col\n",
    "    y = i % 6\n",
    "    axes[x,y].imshow(pc.reshape(8,8), cmap='gray')\n",
    "    axes[x,y].axis('off')\n",
    "    axes[x,y].set_title('PC'+str(i+1))\n",
    "plt.tight_layout()\n",
    "plt.show()"
   ]
  },
  {
   "cell_type": "markdown",
   "metadata": {},
   "source": [
    "很顯然，手寫數字影像的主成分，看起來不像是任何單一的數字，但是我們可以理解成 0～9 的數字在 8\\*8 像素平面上的「特徵」（feature），而前13個特徵幾乎就可以組合出可以便是的數字了。\n",
    "\n",
    "如果我們把「手寫數字的影像」換成再分析資料的某個特性層，例如 850hPa 的溫度場，那麼 PCA 結果的詮釋方法，就與這個例子非常類似。事實上，這個方法在地球物理領域叫做 [Emperical Orthogonal Functions (EOF) Analysis](https://en.wikipedia.org/wiki/Empirical_orthogonal_functions) ，早期很多大氣的低頻震盪都是透過這個工具找到的。\n",
    "\n",
    "\n",
    "\n",
    "## PCA with NOAA-GridSat-B1\n",
    "\n",
    "上一個例子裡用的 MNIST 資料集，資料維度其實非常小（8\\*8\\*1797），目前一般的電腦都可以完整處理 SVD solving 的計算，所以我們接下來介紹另一個比較大的資料集，以及如何使用 [Incremental PCA](https://scikit-learn.org/stable/modules/generated/sklearn.decomposition.IncrementalPCA.html)。\n",
    "\n",
    "\n",
    "### Background information of NOAA-GridSat-B1\n",
    "\n",
    "According to the [official NOAA website](https://www.ncdc.noaa.gov/gridsat/), the GridSat-B1 CDR data is a *climate quality, long term dataset of global infrared window brightness temperatures*. It has the following characteristics:\n",
    "\n",
    "- 1981-present (updated quarterly)\n",
    "- Global coverage (70N to 70S) with 0.07degree interval\n",
    "- Three channels (IR, WV, VIS)\n",
    "- Climate quality calibration for IR channel\n",
    "- Satellites: data included from most meteorological geostationary satellites.\n",
    "\n",
    "The original data is ~2TB, and it is hard to find a server with memory size greater than $2TB^3$. Hence, we have to use the incremental version of PCA.\n",
    "\n",
    "In the following example, we will focus on East Asia (0'~60'N, 100'~160'E).\n",
    "\n",
    "\n",
    "### Handling big dataset with Incremental-PCA\n",
    "\n",
    "以下程式碼在 [`../utils/ipca_noaagridsatb1.py`](https://github.com/tingsyo/course_2020Q3_representation_learning/blob/master/utils/ipca_noaagridsatb1.py)："
   ]
  },
  {
   "cell_type": "markdown",
   "metadata": {},
   "source": [
    "```\n",
    "# !/usr/bin/env python\n",
    "# -*- coding: utf-8 -*-\n",
    "'''\n",
    "This script provide functions that read and perform PCA with NOAA-GridSat-B1 dataset.\n",
    "The domain of the raw data ranged from -70' to 69.93'N, -180' to 179.94'E, with 0.07' intervals. \n",
    "The data dimension is (1, 2000, 5143), and missing values is -31999.\n",
    "\n",
    "According to the official how to, the variable(irwin_cdr) contains int16 with values:\n",
    "    Value = Integer * scale_factor + add_offset\n",
    ", where scale_factor = 0.01 and offset = 200 (Earth Engine Data Catalog ).\n",
    "\n",
    "To focus our analysis to East Asia, we cut off a square of 0'~60'N, 100'~160'E (858,858).\n",
    "\n",
    "The PCA is performed with IncrementalPCA from sklearn.\n",
    "'''\n",
    "import numpy as np\n",
    "import pandas as pd\n",
    "import os, argparse, logging\n",
    "from sklearn.decomposition import PCA, IncrementalPCA\n",
    "import joblib, csv\n",
    "\n",
    "__author__ = \"Ting-Shuo Yo\"\n",
    "__copyright__ = \"Copyright 2019~2020, DataQualia Lab Co. Ltd.\"\n",
    "__credits__ = [\"Ting-Shuo Yo\"]\n",
    "__license__ = \"Apache License 2.0\"\n",
    "__version__ = \"0.1.0\"\n",
    "__maintainer__ = \"Ting-Shuo Yo\"\n",
    "__email__ = \"tingyo@dataqualia.com\"\n",
    "__status__ = \"development\"\n",
    "__date__ = '2020-07-20'\n",
    "\n",
    "\n",
    "# Utility functions\n",
    "def list_noaagridsatb1_files(dir, suffix='.v02r01.nc', to_remove=['GRIDSAT-B1.','.v02r01.nc']):\n",
    "    ''' To scan through the sapecified dir and get the corresponding file with suffix. '''\n",
    "    import os\n",
    "    import pandas as pd\n",
    "    xfiles = []\n",
    "    for root, dirs, files in os.walk(dir, followlinks=True):  # Loop through the directory\n",
    "        for fn in files:\n",
    "            if fn.endswith(suffix):         # Filter files with suffix\n",
    "                timestamp = fn\n",
    "                for s in to_remove:         # Removing prefix and suffix to get time-stamp\n",
    "                    timestamp = timestamp.replace(s,'')\n",
    "                xfiles.append({'timestamp':timestamp, 'xuri':os.path.join(root, fn)})\n",
    "    return(pd.DataFrame(xfiles).sort_values('timestamp').reset_index(drop=True))\n",
    "\n",
    "# Binary reader\n",
    "def read_noaagridsatb1(furi, var='irwin_cdr', scale=0.01, offset=200, remove_na=True, crop_east_asia=True):\n",
    "    ''' The method reads in a NOAA-GridSta-B1 image in netCDF4 format (.nc file). \n",
    "        The brightness temperature data was stored in int16 as 'irwin_cdr', with \n",
    "        a scal factor of 0.01 and offset of 200. The missing values is flagged as -31999.\n",
    "        More details of the data is described in https://developers.google.com/earth-engine/datasets/catalog/NOAA_CDR_GRIDSAT-B1_V2.\n",
    "        Since our analysis focuss on East Asia (0-60'N, 100-160'E), we used an \n",
    "        option to crop the data to this region (index: lat:1000~1858, lon:4000~4858).\n",
    "        The output is a 2-d numpy array of float32 with shape (858, 858).\n",
    "    '''\n",
    "    import numpy as np\n",
    "    import netCDF4 as nc\n",
    "    # Read in data\n",
    "    data = nc.Dataset(furi)\n",
    "    cdr = np.array(data.variables['irwin_cdr'])*scale+offset\n",
    "    # Remove missing value\n",
    "    if remove_na:\n",
    "        cdr[cdr<0] = offset\n",
    "    # Crop domain to East-Asia (0-60'N, 100-160'E)\n",
    "    if crop_east_asia:\n",
    "        return(cdr[0, 1000:1858, 4000:4858])\n",
    "    else:\n",
    "        return(cdr[0,:,:])\n",
    "\n",
    "def read_multiple_noaagridsatb1(flist, flatten=False):\n",
    "    ''' This method reads in a list of NOAA-GridSat-B1 images and returns a numpy array. '''\n",
    "    import numpy as np\n",
    "    data = []\n",
    "    for f in flist:\n",
    "        tmp = read_noaagridsatb1(f)\n",
    "        if flatten:\n",
    "            tmp = tmp.flatten()\n",
    "        data.append(tmp)\n",
    "    return(np.array(data))\n",
    "\n",
    "\n",
    "# Incremental PCA\n",
    "def fit_ipca_partial(finfo, n_component=20, batch_size=128):\n",
    "    ''' Initial and fit a PCA model with incremental PCA. '''\n",
    "    ipca = IncrementalPCA(n_components=n_component, batch_size=batch_size)\n",
    "    # Loop through finfo\n",
    "    nSample = len(finfo)\n",
    "    batch_start = 0\n",
    "    batch_end = batch_size\n",
    "    batch_count = 0\n",
    "    while batch_start < nSample:\n",
    "        logging.debug('Starting batch: '+str(batch_count))\n",
    "        # Check bound\n",
    "        limit = min(batch_end, nSample)         # Check for the final batch\n",
    "        if n_component>(nSample-batch_end):     # Merge the final batch if it's too small\n",
    "            logging.info('The final batch is too small, merge it to the previous batch.')\n",
    "            limit = nSample\n",
    "        # Read batch data\n",
    "        data = read_multiple_noaagridsatb1(finfo['xuri'].iloc[batch_start:limit], flatten=True)\n",
    "        logging.debug(data.shape)\n",
    "        # increment\n",
    "        batch_start = limit   \n",
    "        batch_end = limit + batch_size\n",
    "        batch_count += 1\n",
    "        # Partial fit with batch data\n",
    "        ipca.partial_fit(data)\n",
    "    #\n",
    "    return(ipca)\n",
    "\n",
    "\n",
    "def writeToCsv(output, fname, header=None):\n",
    "    # Overwrite the output file:\n",
    "    with open(fname, 'w', newline='', encoding='utf-8-sig') as csvfile:\n",
    "        writer = csv.writer(csvfile, delimiter=',',quotechar='\"', quoting=csv.QUOTE_ALL)\n",
    "        if header is not None:\n",
    "            writer.writerow(header)\n",
    "        for r in output:\n",
    "            writer.writerow(r)\n",
    "    return(0)\n",
    "#-----------------------------------------------------------------------\n",
    "def main():\n",
    "    # Configure Argument Parser\n",
    "    parser = argparse.ArgumentParser(description='Retrieve DBZ data for further processing.')\n",
    "    parser.add_argument('--datapath', '-i', help='the directory containing Himawari data in btp format.')\n",
    "    parser.add_argument('--output', '-o', help='the prefix of output files.')\n",
    "    parser.add_argument('--logfile', '-l', default=None, help='the log file.')\n",
    "    parser.add_argument('--n_component', '-n', default=50, type=int, help='the random seed for shuffling.')\n",
    "    parser.add_argument('--batch_size', '-b', default=128, type=int, help='the batch size.')\n",
    "    parser.add_argument('--random_seed', '-r', default=123, type=int, help='the random seed for shuffling.')\n",
    "    args = parser.parse_args()\n",
    "    # Set up logging\n",
    "    if not args.logfile is None:\n",
    "        logging.basicConfig(level=logging.DEBUG, filename=args.logfile, filemode='w')\n",
    "    else:\n",
    "        logging.basicConfig(level=logging.DEBUG)\n",
    "    logging.debug(args)\n",
    "    # Get data files\n",
    "    logging.info('Scanning data files.')\n",
    "    datainfo = list_noaagridsatb1_files(args.datapath)\n",
    "    #datainfo.to_csv(args.output+'.file_info.csv', index=False)\n",
    "    # IncrementalPCA\n",
    "    logging.info(\"Performing IncrementalPCA with \"+ str(args.n_component)+\" components and batch size of \" + str(args.batch_size))\n",
    "    ipca = fit_ipca_partial(datainfo, n_component=args.n_component, batch_size=args.batch_size)\n",
    "    ev = ipca.explained_variance_\n",
    "    evr = ipca.explained_variance_ratio_\n",
    "    com = np.transpose(ipca.components_)\n",
    "    logging.info(\"Explained variance ratio: \"+ str(evr))\n",
    "    # Output components\n",
    "    com_header = ['pc'+str(x+1) for x in range(args.n_component)]\n",
    "    #writeToCsv(com, args.output+'.components.csv', header=com_header)\n",
    "    pd.DataFrame({'ev':ev, 'evr':evr}).to_csv(args.output+'.exp_var.csv')\n",
    "    # Output fitted IPCA model\n",
    "    joblib.dump(ipca, args.output+\".pca.mod\")\n",
    "    # done\n",
    "    return(0)\n",
    "    \n",
    "#==========\n",
    "# Script\n",
    "#==========\n",
    "if __name__==\"__main__\":\n",
    "    main()\n",
    "```"
   ]
  },
  {
   "cell_type": "markdown",
   "metadata": {},
   "source": [
    "Incremental PCA 的程式碼主要的特色是 *batched data loading* 和 *partial fitting*，我們先看主要的函數 `fit_ipca_partial()`。"
   ]
  },
  {
   "cell_type": "code",
   "execution_count": 10,
   "metadata": {},
   "outputs": [],
   "source": [
    "def fit_ipca_partial(finfo, n_component=20, batch_size=128):\n",
    "    ''' Initial and fit a PCA model with incremental PCA. '''\n",
    "    ipca = IncrementalPCA(n_components=n_component, batch_size=batch_size)\n",
    "    # Loop through finfo\n",
    "    nSample = len(finfo)\n",
    "    batch_start = 0\n",
    "    batch_end = batch_size\n",
    "    batch_count = 0\n",
    "    while batch_start < nSample:\n",
    "        logging.debug('Starting batch: '+str(batch_count))\n",
    "        # Check bound\n",
    "        limit = min(batch_end, nSample)         # Check for the final batch\n",
    "        if n_component>(nSample-batch_end):     # Merge the final batch if it's too small\n",
    "            logging.info('The final batch is too small, merge it to the previous batch.')\n",
    "            limit = nSample\n",
    "        # Read batch data\n",
    "        data = read_multiple_noaagridsatb1(finfo['xuri'].iloc[batch_start:limit], flatten=True)\n",
    "        logging.debug(data.shape)\n",
    "        # increment\n",
    "        batch_start = limit   \n",
    "        batch_end = limit + batch_size\n",
    "        batch_count += 1\n",
    "        # Partial fit with batch data\n",
    "        ipca.partial_fit(data)\n",
    "    #\n",
    "    return(ipca)"
   ]
  },
  {
   "cell_type": "markdown",
   "metadata": {},
   "source": [
    "我們可以看到，函數裡用預先收集的所有資料檔案路徑，依據給定的 batch-size （基本上受限於系統的記憶體），然後依序讀入每個部分，使用[`sklearn.decomposition.IncrementalPCA.partial_fit()`](https://scikit-learn.org/stable/modules/generated/sklearn.decomposition.IncrementalPCA.html#sklearn.decomposition.IncrementalPCA.partial_fit) 來逐步完成 PCA。\n",
    "\n",
    "我們之所以要解釋這個部分的程式碼，主要是因為後續 deep learning 的實作幾乎都依循相似的結構。"
   ]
  },
  {
   "cell_type": "code",
   "execution_count": null,
   "metadata": {},
   "outputs": [],
   "source": []
  }
 ],
 "metadata": {
  "kernelspec": {
   "display_name": "Python 3",
   "language": "python",
   "name": "python3"
  },
  "language_info": {
   "codemirror_mode": {
    "name": "ipython",
    "version": 3
   },
   "file_extension": ".py",
   "mimetype": "text/x-python",
   "name": "python",
   "nbconvert_exporter": "python",
   "pygments_lexer": "ipython3",
   "version": "3.7.9"
  }
 },
 "nbformat": 4,
 "nbformat_minor": 4
}
