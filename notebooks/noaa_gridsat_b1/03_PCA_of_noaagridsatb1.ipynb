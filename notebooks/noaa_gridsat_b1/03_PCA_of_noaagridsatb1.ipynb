{
 "cells": [
  {
   "cell_type": "markdown",
   "metadata": {},
   "source": [
    "# PCA of NOAA-GridSat-B1\n",
    "\n",
    "In this notebook, we will perform Principle Component Analysis on the NOAA-GridSat-B1 data in 1998 \\~ 2018 (21 years). From the previous notebook we found that data quality of NOAA-GridSat-B1 had significant improvement after 2013 (less peaks on min/max values, i.e., less outliers), we will also perform PCA on 2013~2018 data to see if there are differences.\n",
    "\n"
   ]
  },
  {
   "cell_type": "code",
   "execution_count": 27,
   "metadata": {},
   "outputs": [],
   "source": [
    "# I/O and utilities\n",
    "import numpy as np\n",
    "import pandas as pd\n",
    "import os, argparse, logging\n",
    "from sklearn.decomposition import PCA, IncrementalPCA\n",
    "import joblib\n",
    "\n",
    "# Utility functions\n",
    "def list_noaagridsatb1_files(dir, suffix='.v02r01.nc', to_remove=['GRIDSAT-B1.','.v02r01.nc']):\n",
    "    ''' To scan through the sapecified dir and get the corresponding file with suffix. '''\n",
    "    import os\n",
    "    import pandas as pd\n",
    "    xfiles = []\n",
    "    for root, dirs, files in os.walk(dir):  # Loop through the directory\n",
    "        for fn in files:\n",
    "            if fn.endswith(suffix):         # Filter files with suffix\n",
    "                timestamp = fn\n",
    "                for s in to_remove:         # Removing prefix and suffix to get time-stamp\n",
    "                    timestamp = timestamp.replace(s,'')\n",
    "                xfiles.append({'timestamp':timestamp, 'xuri':os.path.join(root, fn)})\n",
    "    return(pd.DataFrame(xfiles).sort_values('timestamp').reset_index(drop=True))\n",
    "\n",
    "# Binary reader\n",
    "def read_noaagridsatb1(furi, var='irwin_cdr', scale=0.01, offset=200, remove_na=True, crop_east_asia=True):\n",
    "    ''' The method reads in a NOAA-GridSta-B1 image in netCDF4 format (.nc file). \n",
    "        The brightness temperature data was stored in int16 as 'irwin_cdr', with \n",
    "        a scal factor of 0.01 and offset of 200. The missing values is flagged as -31999.\n",
    "        More details of the data is described in https://developers.google.com/earth-engine/datasets/catalog/NOAA_CDR_GRIDSAT-B1_V2.\n",
    "        Since our analysis focuss on East Asia (0-60'N, 100-160'E), we used an \n",
    "        option to crop the data to this region (index: lat:1000~1858, lon:4000~4858).\n",
    "        The output is a 2-d numpy array of float32 with shape (858, 858).\n",
    "    '''\n",
    "    import numpy as np\n",
    "    import netCDF4 as nc\n",
    "    # Read in data\n",
    "    data = nc.Dataset(furi)\n",
    "    cdr = np.array(data.variables['irwin_cdr'])*scale+offset\n",
    "    # Remove missing value\n",
    "    if remove_na:\n",
    "        cdr[cdr<0] = offset\n",
    "    # Crop domain to East-Asia (0-60'N, 100-160'E)\n",
    "    if crop_east_asia:\n",
    "        return(cdr[0, 1000:1858, 4000:4858])\n",
    "    else:\n",
    "        return(cdr[0,:,:])\n",
    "\n",
    "def read_multiple_noaagridsatb1(flist, flatten=False):\n",
    "    ''' This method reads in a list of NOAA-GridSat-B1 images and returns a numpy array. '''\n",
    "    import numpy as np\n",
    "    data = []\n",
    "    for f in flist:\n",
    "        tmp = read_noaagridsatb1(f)\n",
    "        if flatten:\n",
    "            tmp = tmp.flatten()\n",
    "        data.append(tmp)\n",
    "    return(np.array(data))\n",
    "\n",
    "\n",
    "# Incremental PCA\n",
    "def fit_ipca_partial(finfo, n_component=20, batch_size=128):\n",
    "    ''' Initial and fit a PCA model with incremental PCA. '''\n",
    "    ipca = IncrementalPCA(n_components=n_component, batch_size=batch_size)\n",
    "    # Loop through finfo\n",
    "    nSample = len(finfo)\n",
    "    batch_start = 0\n",
    "    batch_end = batch_size\n",
    "    batch_count = 0\n",
    "    while batch_start < nSample:\n",
    "        # Check bound\n",
    "        limit = min(batch_end, nSample)         # Check for the final batch\n",
    "        if n_component>(nSample-batch_end):     # Merge the final batch if it's too small\n",
    "            print('The final batch is too small, merge it to the previous batch.')\n",
    "            limit = nSample\n",
    "        # Read batch data\n",
    "        data = read_multiple_noaagridsatb1(finfo['xuri'].iloc[batch_start:limit], flatten=True)\n",
    "        print(data.shape)\n",
    "        # increment\n",
    "        batch_start += limit   \n",
    "        batch_end += batch_size\n",
    "        batch_count += 1\n",
    "        # Partial fit with batch data\n",
    "        ipca.partial_fit(data)\n",
    "    #\n",
    "    return(ipca)"
   ]
  },
  {
   "cell_type": "code",
   "execution_count": 28,
   "metadata": {},
   "outputs": [
    {
     "name": "stdout",
     "output_type": "stream",
     "text": [
      "The final batch is too small, merge it to the previous batch.\n",
      "(8, 736164)\n"
     ]
    }
   ],
   "source": [
    "files = list_noaagridsatb1_files('../../data/noaa/')\n",
    "ipca = fit_ipca_partial(files, n_component=4, batch_size=5)"
   ]
  },
  {
   "cell_type": "code",
   "execution_count": 29,
   "metadata": {},
   "outputs": [
    {
     "name": "stdout",
     "output_type": "stream",
     "text": [
      "[29755648. 18266374. 11480846.  8797922.]\n",
      "[0.34650448 0.2127119  0.13369444 0.10245179]\n",
      "(736164, 4)\n"
     ]
    }
   ],
   "source": [
    "ev = ipca.explained_variance_\n",
    "evr = ipca.explained_variance_ratio_\n",
    "com = np.transpose(ipca.components_)\n",
    "\n",
    "print(ev)\n",
    "print(evr)\n",
    "print(com.shape)"
   ]
  },
  {
   "cell_type": "code",
   "execution_count": null,
   "metadata": {},
   "outputs": [],
   "source": []
  }
 ],
 "metadata": {
  "kernelspec": {
   "display_name": "Python 3",
   "language": "python",
   "name": "python3"
  },
  "language_info": {
   "codemirror_mode": {
    "name": "ipython",
    "version": 3
   },
   "file_extension": ".py",
   "mimetype": "text/x-python",
   "name": "python",
   "nbconvert_exporter": "python",
   "pygments_lexer": "ipython3",
   "version": "3.7.6"
  }
 },
 "nbformat": 4,
 "nbformat_minor": 4
}
