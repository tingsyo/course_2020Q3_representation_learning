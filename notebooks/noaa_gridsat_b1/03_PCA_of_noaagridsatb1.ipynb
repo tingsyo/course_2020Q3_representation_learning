{
 "cells": [
  {
   "cell_type": "markdown",
   "metadata": {},
   "source": [
    "# PCA of NOAA-GridSat-B1\n",
    "\n",
    "In this notebook, we will perform Principle Component Analysis on the NOAA-GridSat-B1 data in 1998 \\~ 2018 (21 years). From the previous notebook we found that data quality of NOAA-GridSat-B1 had significant improvement after 2013 (less peaks on min/max values, i.e., less outliers), we will also perform PCA on 2013~2018 data to see if there are differences.\n",
    "\n"
   ]
  },
  {
   "cell_type": "code",
   "execution_count": null,
   "metadata": {},
   "outputs": [],
   "source": []
  }
 ],
 "metadata": {
  "kernelspec": {
   "display_name": "Python 3",
   "language": "python",
   "name": "python3"
  },
  "language_info": {
   "codemirror_mode": {
    "name": "ipython",
    "version": 3
   },
   "file_extension": ".py",
   "mimetype": "text/x-python",
   "name": "python",
   "nbconvert_exporter": "python",
   "pygments_lexer": "ipython3",
   "version": "3.7.6"
  }
 },
 "nbformat": 4,
 "nbformat_minor": 4
}
