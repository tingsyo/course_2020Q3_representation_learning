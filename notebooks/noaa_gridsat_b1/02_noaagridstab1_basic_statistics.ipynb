{
 "cells": [
  {
   "cell_type": "markdown",
   "metadata": {},
   "source": [
    "# Basic Statistics of NOAA-GridSta-B1\n",
    "\n",
    "In this notebook, we develop the utilities for deriving basic statistics from NOAA-GridSta-B1 dataset.\n"
   ]
  },
  {
   "cell_type": "code",
   "execution_count": null,
   "metadata": {},
   "outputs": [],
   "source": [
    "import numpy as np\n",
    "import pandas as pd\n",
    "import netCDF4 as nc\n",
    "\n",
    "# Binary reader\n",
    "def read_noaagridstab1(furi, var='irwin_cdr', scale=0.01, offset=200, remove_na=True, crop_east_asia=True):\n",
    "    ''' The method reads in a NOAA-GridSta-B1 image in netCDF4 format (.nc file). \n",
    "        The brightness temperature data was stored in int16 as 'irwin_cdr', with \n",
    "        a scal factor of 0.01 and offset of 200. The missing values is flagged as -31999.\n",
    "        More details of the data is described in https://developers.google.com/earth-engine/datasets/catalog/NOAA_CDR_GRIDSAT-B1_V2.\n",
    "        Since our analysis focuss on East Asia (0-60'N, 100-160'E), we used an \n",
    "        option to crop the data to this region (index: lat:1000~1858, lon:4000~4858).\n",
    "        The output is a 2-d numpy array of float.\n",
    "    '''\n",
    "    import numpy as np\n",
    "    import netCDF4 as nc\n",
    "    # Read in data\n",
    "    data = nc.Dataset(furi)\n",
    "    cdr = np.array(data.variables['irwin_cdr'])*scale+offset\n",
    "    # Remove missing value\n",
    "    if remove_na:\n",
    "        cdr[cdr<0] = offset\n",
    "    # Crop domain to East-Asia (0-60'N, 100-160'E)\n",
    "    if crop_east_asia:\n",
    "        return(cdr[0, 1000:1858, 4000:4858])\n",
    "    else:\n",
    "        return(cdr[0,:,:])\n",
    "\n",
    "# Statistical summary\n",
    "def summarize_single_image(img):\n",
    "    ''' Calculate basic statistics of one Himawari-8 image. '''\n",
    "    mean = np.mean(img.flatten())\n",
    "    std = np.std(img.flatten())\n",
    "    pt = np.percentile(img.flatten(), [0, 25, 50, 75,100])\n",
    "    return({'mean':mean, 'stdev':std, 'min':pt[0],'pt25':pt[1],'median':pt[2],'pt75':pt[3], 'max':pt[4]})\n",
    "\n",
    "# Test\n",
    "tmp = read_himawari8_btp('../../data/himawari8_btp/2017-06-01_0000.B13.PCCU.btp')\n",
    "print(tmp.shape)\n",
    "print(summarize_single_image(tmp))"
   ]
  }
 ],
 "metadata": {
  "kernelspec": {
   "display_name": "Python 3",
   "language": "python",
   "name": "python3"
  },
  "language_info": {
   "codemirror_mode": {
    "name": "ipython",
    "version": 3
   },
   "file_extension": ".py",
   "mimetype": "text/x-python",
   "name": "python",
   "nbconvert_exporter": "python",
   "pygments_lexer": "ipython3",
   "version": "3.7.6"
  }
 },
 "nbformat": 4,
 "nbformat_minor": 4
}
