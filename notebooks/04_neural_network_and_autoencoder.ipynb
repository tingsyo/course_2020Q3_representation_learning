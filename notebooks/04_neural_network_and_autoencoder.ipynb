{
 "cells": [
  {
   "cell_type": "markdown",
   "metadata": {},
   "source": [
    "# Introduction to NN and AE\n",
    "\n",
    "\n",
    "## Outline\n",
    "\n",
    "- Introduction to neural network\n",
    "- Implementation of a simple neural network ([reference](https://towardsdatascience.com/build-a-simple-neural-network-using-numpy-2add9aad6fc8))\n",
    "- Autoencoder\n",
    "- Breaking the limitation of the number of layers\n",
    "\n",
    "## Neural Networks\n",
    "\n",
    "The recent hype of **AI** is originated in the breakthrough of **deep neural networks**, which is a sub-domain of **machine learning**. For the rest of this course, the algorithms we are going to talk about are all deep-neural-network-related. Hence, before we go any further, we would first learn some foundations of the neural networks.\n",
    "\n",
    "<img src='https://www.datacatchup.com/wp-content/uploads/2019/05/image.png' width='40%' description='The relationship between AI, machine learning, and deep learing.'/>\n",
    "\n",
    "A [neural network](https://en.wikipedia.org/wiki/Neural_network) is a network or circuit of neurons, it can refer to a biological neural network made up of real biological neurons, or an artificial neural network that mathematically represents its biological counterpart. \n",
    "\n",
    "<img src='https://upload.wikimedia.org/wikipedia/commons/thumb/1/10/Blausen_0657_MultipolarNeuron.png/1280px-Blausen_0657_MultipolarNeuron.png' width='60%'/>\n",
    "\n",
    "A biological neural network (i.e., **[neural circuit](https://en.wikipedia.org/wiki/Neural_circuit)**) is a population of neurons interconnected by synapses to carry out a specific function when activated. The description of such networks can be found in Herbert Spencer's *Principles of Psychology, 3rd edition (1872)*, Theodor Meynert's *Psychiatry (1884)*, William James' *Principles of Psychology (1890)*, and Sigmund Freud's *Project for a Scientific Psychology (composed 1895)*. The first rule of neuronal learning was described by Hebb in 1949, in the Hebbian theory.\n",
    "\n",
    "<img src='https://www.researchgate.net/profile/Erguen_Akguen/publication/326417061/figure/fig2/AS:648990437679105@1531742786278/Similarity-between-biological-and-artificial-neural-networks-Arbib-2003a-Haykin_W640.jpg' width='50%'/>\n",
    "\n",
    "In 1943, McCulloch and Pitts created a computational model for neural networks based on mathematics and algorithms. They called this model threshold logic. The model paved the way for neural network research to split into two distinct approaches. One approach focused on biological processes in the brain and the other focused on the application of neural networks to artificial intelligence.\n",
    "\n",
    "Farley and Clark (1954) first used computational machines, then called calculators, to simulate a Hebbian network at MIT. Other neural network computational machines were created by Rochester, Holland, Habit, and Duda (1956).\n",
    "\n",
    "Rosenblatt (1958) created the **[perceptron](https://en.wikipedia.org/wiki/Perceptron)**, an algorithm for pattern recognition based on a two-layer learning computer network using simple addition and subtraction. With mathematical notation, Rosenblatt also described circuitry not in the basic perceptron, such as the exclusive-or circuit, a circuit whose mathematical computation could not be processed until after the **[backpropagation](https://en.wikipedia.org/wiki/Backpropagation)** algorithm was created by Werbos (1975).\n",
    "\n",
    "Now, let's go back to 1975 and rebuild a simple artificial neural network.\n",
    "\n",
    "\n",
    "\n"
   ]
  },
  {
   "cell_type": "markdown",
   "metadata": {},
   "source": [
    "## Implementation of a simple neural network\n",
    "\n",
    "Before the implementation, we need to formulate the problem in a proper form. The figure bellow illustrates a simple neural netowrk with a single input layer (of two variables) mapping directly toward one output variable. \n",
    "\n",
    "<img src='https://upload.wikimedia.org/wikipedia/commons/thumb/4/42/A_simple_neural_network_with_two_input_units_and_one_output_unit.png/375px-A_simple_neural_network_with_two_input_units_and_one_output_unit.png' width='30%' />\n",
    "\n",
    "According to this *graph representation*, we can re-phrase our problem as: **finding the optimal values of $w_1$ and $w_2$ such that the formula $w_1 x_1$ + $w_2 x_2$ = $Y$ yeilds the best performance**. We can further extend the two input variables to $n$ variables, and the problem becomes a *$Y$ = $WX$ problem, where $W = \\{w_1, w_2, ..., w_n\\}$ and $X = \\{x_1, x_2, ..., x_n\\}$.\n",
    "\n",
    "At this level of representation, we would say that a single-layuered NN is almost identical to *[linear regression](https://en.wikipedia.org/wiki/Linear_regression)*, which is also a *$Y$ = $WX$ + $\\epsilon$* problem.\n",
    "\n",
    "As described in previous section, NN is a mathematical mimic of biological neurons, where the *input* stimulus does not directly transfer to the next neron, but through an *activation* process. A neuron is *activated* if the strength of its input passes a certain threshold, $\\theta$. Hence, in addition to the simple graph representation, a more precise flowchart can be illustrated as following.\n",
    "\n",
    "<img src='https://upload.wikimedia.org/wikipedia/commons/6/60/ArtificialNeuronModel_english.png' width='60%' />\n",
    "\n",
    "In the new version, the earlier model is wrapped by an activation function, $\\phi$, which sneds out a signal $o$ if the value of $\\phi(\\Sigma(W^TX))$ is greater than the threshold $\\theta$. \n",
    "\n",
    "Now, the form of our neural network looks exactly like *[logistic regression](https://en.wikipedia.org/wiki/Logistic_regression)*. So, why do we need neural networks if it is the same as regression?\n",
    "\n",
    "The true distinction between neural networks and other machine learning models is **the way it seraches for the optimal weights, backward-propagation**. "
   ]
  },
  {
   "cell_type": "markdown",
   "metadata": {},
   "source": [
    "## Backwardpropagation\n",
    "\n",
    "In contrast to the logistic regression which minimizes **least-squared error** to find the best weights, $W$, the artificial neural networks employee a more *Bayesian* approach. An **ANN** first calculates the output with current weights as the *forward* step. The difference between the output and the truth is then derived with the *loss function*. And the *loss* hence serves as a **gradient** that propagates backward through the network and adjusts the current weights accordingly.\n",
    "\n",
    "This two-step learning is different from the least-squared method in several ways:\n",
    "\n",
    "1. The least-squared method use all training data at once, while the backwardpropagation use a small batch of data incrementally.\n",
    "\n",
    "2. As long as the least-square method yields a converged solution, the results will be the same regardless of the order of the data. And ANNs will have different training results if:\n",
    "    - the ordering of the training data changed, \n",
    "    - the initial weights changed, or \n",
    "    - the strength of the gradient (**learning rate**) changed.\n",
    "\n",
    "\n",
    "Denote:\n",
    "\n",
    "- $x$: input (vector of features)\n",
    "- $y$: target output\n",
    "- $L$ / $C$: loss or cost function\n",
    "- $W^{l}$=$(w_{ij}^{l})$: the weights between layer $l-1$ and $l$, where $w_{ij}^{l}$ is the weight between the $i$-th node in layer $l-1$ and the $j$-th node in layer $l$.\n",
    "- $\\phi^{l}$: activation functions at layer $l$.\n",
    "\n",
    "Since our network has only one layer, we will ignore the notation $l$ and $j$ in the following derivations.\n",
    "\n",
    "With the notations above, the output of our simple NN can be written as:\n",
    "\n",
    "$y$ = $o$ = $\\phi(\\Sigma_{i=1}^{n}w_{i}x_{i})$\n",
    "\n",
    "where the activation function $\\phi$ is non-linear and differentiable sigmoid function:\n",
    "\n",
    "$\\phi(z)$ = $\\frac{1}{1-e^{-z}}$\n",
    "\n",
    "which has a convenient derivative of:\n",
    "\n",
    "$\\frac{d\\phi(z)}{dz}$ = $\\text{net}$ =$\\phi(z)(1-\\phi(z))$\n",
    "\n",
    "This will help us determine the gradient that applies to thwe weights.\n",
    "\n",
    "\n",
    "### Derive the gradient\n",
    "\n",
    "We define the term **error**, $E$, as the results of the loss function:\n",
    "\n",
    "$E = L(t,y)$\n",
    "\n",
    ", where $t$ is the truth and $y$ is the output.\n",
    "\n",
    "Calculating the partial derivative of the error with respect to a weight $w_{ij}$ is done using the chain rule twice:\n",
    "\n",
    "$\\frac{\\partial E}{\\partial w_{i}}$=$\\frac{\\partial E}{\\partial o}\\frac {\\partial o}{\\partial w_{i}}$=$\\frac {\\partial E}{\\partial y}{\\frac {\\partial y}{\\partial {\\text{net}}}}{\\frac {\\partial {\\text{net}}}{\\partial w_{i}}}$\n",
    "\n",
    "\n",
    "We can further analyze the three terms in the right hand side one by one (see [reference](https://en.wikipedia.org/wiki/Backpropagation#Derivation)), and resulting in the form of:\n",
    "\n",
    "$\\Delta w_{i}$=-$\\eta {\\frac {\\partial E}{\\partial w_{i}}}$=-$\\eta o_{i}\\delta$\n",
    "\n",
    "The term $\\eta$ is defined as the **learning rate**, which determines the amount of adjustment for each training batch. And if we use the sigmoid function as the activation function, the term $\\delta$ is as simple as $(y-t)y(1-y)$.\n",
    "\n",
    "\n",
    "### Limitation\n",
    "\n",
    "- Gradient descent with backpropagation is not guaranteed to find the global minimum of the error function, but only a local minimum; also, it has trouble crossing plateaus in the error function landscape. This issue, caused by the non-convexity of error functions in neural networks, was long thought to be a major drawback, but Yann LeCun et al. argue that in many practical problems, it is not.\n",
    "\n",
    "- Backpropagation learning does not require normalization of input vectors; however, normalization could improve performance.\n",
    "\n",
    "- Backpropagation requires the derivatives of activation functions to be known at network design time.\n",
    "\n",
    "\n",
    "Now we have properly formulate the problem, let's implement it in python.\n",
    "\n",
    "### Data\n",
    "\n",
    "We use the 0s and 1s in the MINST dataset for demonstration."
   ]
  },
  {
   "cell_type": "code",
   "execution_count": 1,
   "metadata": {},
   "outputs": [
    {
     "name": "stdout",
     "output_type": "stream",
     "text": [
      "(360, 64)\n",
      "(360,)\n",
      "col_0  count\n",
      "row_0       \n",
      "0        178\n",
      "1        182\n"
     ]
    }
   ],
   "source": [
    "import numpy as np\n",
    "import pandas as pd\n",
    "import matplotlib.pyplot as plt\n",
    "from sklearn import datasets\n",
    "\n",
    "# The digits dataset\n",
    "digits = datasets.load_digits()\n",
    "# Select only 0 and 1\n",
    "X = digits.data[(digits.target==0)|(digits.target==1),:]\n",
    "Y = digits.target[(digits.target==0)|(digits.target==1)]\n",
    "print(X.shape)\n",
    "print(Y.shape)\n",
    "print(pd.crosstab(Y,'count'))"
   ]
  },
  {
   "cell_type": "markdown",
   "metadata": {},
   "source": [
    "And then we check if everything is correct."
   ]
  },
  {
   "cell_type": "code",
   "execution_count": 2,
   "metadata": {},
   "outputs": [
    {
     "data": {
      "image/png": "[encoded data removed]",
      "text/plain": [
       "<Figure size 432x288 with 2 Axes>"
      ]
     },
     "metadata": {
      "needs_background": "light"
     },
     "output_type": "display_data"
    }
   ],
   "source": [
    "# Create a 2*5 plots for each digit\n",
    "fig, axes = plt.subplots(1, 2, sharex=True, sharey=True, squeeze=False)\n",
    "\n",
    "# Loop through each class\n",
    "for i in range(2):\n",
    "    # Retrieve the first image of the given digit\n",
    "    img = digits.data[(digits.target==i)][0]\n",
    "    x = i // 5    # Put the digit to the right row/col\n",
    "    y = i % 5\n",
    "    axes[x,y].imshow(img.reshape(8,8), cmap='gray')\n",
    "    axes[x,y].axis('off')\n",
    "    axes[x,y].set_title(str(i))"
   ]
  },
  {
   "cell_type": "markdown",
   "metadata": {},
   "source": [
    "To demonstrate the ANN, we need to split the dataset into training and testing set."
   ]
  },
  {
   "cell_type": "code",
   "execution_count": 3,
   "metadata": {},
   "outputs": [
    {
     "name": "stdout",
     "output_type": "stream",
     "text": [
      "(300, 64)\n",
      "(60, 64)\n",
      "col_0  count\n",
      "row_0       \n",
      "0        145\n",
      "1        155\n"
     ]
    }
   ],
   "source": [
    "# Separate training and testing data\n",
    "indices = np.random.permutation(X.shape[0])\n",
    "training_idx, test_idx = indices[:300], indices[300:]\n",
    "x_train = X[training_idx,:]\n",
    "y_train = Y[training_idx]\n",
    "x_test = X[test_idx,:]\n",
    "y_test = Y[test_idx]\n",
    "print(x_train.shape)\n",
    "print(x_test.shape)\n",
    "print(pd.crosstab(y_train,'count'))"
   ]
  },
  {
   "cell_type": "markdown",
   "metadata": {},
   "source": [
    "Though it's not necessary in theory, we know from experience that the ANN can perform better when the input values are scaled around 0."
   ]
  },
  {
   "cell_type": "code",
   "execution_count": 4,
   "metadata": {},
   "outputs": [
    {
     "data": {
      "image/png": "[encoded data removed]",
      "text/plain": [
       "<Figure size 432x288 with 1 Axes>"
      ]
     },
     "metadata": {
      "needs_background": "light"
     },
     "output_type": "display_data"
    },
    {
     "data": {
      "image/png": "[encoded data removed]",
      "text/plain": [
       "<Figure size 432x288 with 1 Axes>"
      ]
     },
     "metadata": {
      "needs_background": "light"
     },
     "output_type": "display_data"
    }
   ],
   "source": [
    "plt.hist(x_train.flatten())\n",
    "plt.show()\n",
    "x_train = x_train/16\n",
    "x_test = x_test/16\n",
    "plt.hist(x_train.flatten())\n",
    "plt.show()"
   ]
  },
  {
   "cell_type": "markdown",
   "metadata": {},
   "source": [
    "And then we implement the simple one-layer ANN."
   ]
  },
  {
   "cell_type": "code",
   "execution_count": 20,
   "metadata": {},
   "outputs": [],
   "source": [
    "# The NN\n",
    "def sigmoid(z):\n",
    "    return 1/(1+np.exp(-z))\n",
    "\n",
    "def initialize_parameters(dim):\n",
    "    w = np.random.randn(dim, 1)*0.01\n",
    "    b = 0\n",
    "    return w, b\n",
    "\n",
    "def propagate(w, b, X, Y):\n",
    "    m = X.shape[1]\n",
    "    \n",
    "    #calculate activation function\n",
    "    A = sigmoid(np.dot(w.T, X)+b)\n",
    "    #find the cost\n",
    "    cost = (-1/m) * np.sum(Y * np.log(A) + (1 - Y) * (np.log(1 - A)))  \n",
    "    #find gradient (back propagation)\n",
    "    dw = (1/m) * np.dot(X, (A-Y).T)\n",
    "    db = (1/m) * np.sum(A-Y)\n",
    "    cost = np.squeeze(cost)\n",
    "    grads = {\"dw\": dw,\n",
    "             \"db\": db} \n",
    "    return grads, cost\n",
    "\n",
    "def gradient_descent(w, b, X, Y, iterations, learning_rate):\n",
    "    costs = []\n",
    "    for i in range(iterations):\n",
    "        grads, cost = propagate(w, b, X, Y)\n",
    "        \n",
    "        #update parameters\n",
    "        w = w - learning_rate * grads[\"dw\"]\n",
    "        b = b - learning_rate * grads[\"db\"]\n",
    "        costs.append(cost)\n",
    "        if i % 100 == 0:\n",
    "            print (\"Cost after iteration %i: %f\" %(i, cost))\n",
    "    \n",
    "    params = {\"w\": w,\n",
    "              \"b\": b}    \n",
    "    return params, costs\n",
    "\n",
    "def predict(w, b, X):    \n",
    "    # number of example\n",
    "    m = X.shape[1]\n",
    "    y_pred = np.zeros((1,m))\n",
    "    w = w.reshape(X.shape[0], 1)\n",
    "    \n",
    "    A = sigmoid(np.dot(w.T, X)+b)\n",
    "    \n",
    "    for i in range(A.shape[1]):\n",
    "        y_pred[0,i] = 1 if A[0,i] >0.5 else 0 \n",
    "        pass\n",
    "    return y_pred\n",
    "\n",
    "def model(train_x, train_y, test_x, test_y, iterations, learning_rate):\n",
    "    w, b = initialize_parameters(train_x.shape[0])\n",
    "    parameters, costs = gradient_descent(w, b, train_x, train_y, iterations, learning_rate)\n",
    "    \n",
    "    w = parameters[\"w\"]\n",
    "    b = parameters[\"b\"]\n",
    "    \n",
    "    # predict \n",
    "    train_pred_y = predict(w, b, train_x)\n",
    "    test_pred_y = predict(w, b, test_x)\n",
    "    print(\"Train Acc: {} %\".format(100 - np.mean(np.abs(train_pred_y - train_y)) * 100))\n",
    "    print(\"Test Acc: {} %\".format(100 - np.mean(np.abs(test_pred_y - test_y)) * 100))\n",
    "    \n",
    "    return costs"
   ]
  },
  {
   "cell_type": "markdown",
   "metadata": {},
   "source": [
    "And now we can test our model with the dataset we prepared earlier. Let's first try a *learning-rate* of 0.0005."
   ]
  },
  {
   "cell_type": "code",
   "execution_count": 21,
   "metadata": {},
   "outputs": [
    {
     "name": "stdout",
     "output_type": "stream",
     "text": [
      "Cost after iteration 0: 0.696327\n",
      "Cost after iteration 100: 0.674435\n",
      "Cost after iteration 200: 0.653600\n",
      "Cost after iteration 300: 0.633759\n",
      "Cost after iteration 400: 0.614856\n",
      "Cost after iteration 500: 0.596838\n",
      "Cost after iteration 600: 0.579656\n",
      "Cost after iteration 700: 0.563264\n",
      "Cost after iteration 800: 0.547619\n",
      "Cost after iteration 900: 0.532680\n",
      "Train Acc: 99.33333333333333 %\n",
      "Test Acc: 98.33333333333333 %\n"
     ]
    }
   ],
   "source": [
    "costs = model(x_train.T, y_train.reshape(y_train.shape[0],1).T, x_test.T, y_test.reshape(y_test.shape[0],1).T, iterations = 1000, learning_rate = 0.0005)"
   ]
  },
  {
   "cell_type": "markdown",
   "metadata": {},
   "source": [
    "The results seem good enough, and let's see the training history."
   ]
  },
  {
   "cell_type": "code",
   "execution_count": 22,
   "metadata": {},
   "outputs": [
    {
     "data": {
      "image/png": "[encoded data removed]",
      "text/plain": [
       "<Figure size 432x288 with 1 Axes>"
      ]
     },
     "metadata": {
      "needs_background": "light"
     },
     "output_type": "display_data"
    }
   ],
   "source": [
    "plt.plot(costs)\n",
    "plt.ylabel('cost')\n",
    "plt.xlabel('iterations')\n",
    "plt.title(\"Learning rate =\" + str(0.0005))\n",
    "plt.show()"
   ]
  },
  {
   "cell_type": "markdown",
   "metadata": {},
   "source": [
    "Now let's try some different learning-rate and see the difference."
   ]
  },
  {
   "cell_type": "code",
   "execution_count": 24,
   "metadata": {},
   "outputs": [
    {
     "name": "stdout",
     "output_type": "stream",
     "text": [
      "Cost after iteration 0: 0.696536\n",
      "Cost after iteration 100: 0.694239\n",
      "Cost after iteration 200: 0.691956\n",
      "Cost after iteration 300: 0.689686\n",
      "Cost after iteration 400: 0.687429\n",
      "Cost after iteration 500: 0.685184\n",
      "Cost after iteration 600: 0.682953\n",
      "Cost after iteration 700: 0.680733\n",
      "Cost after iteration 800: 0.678526\n",
      "Cost after iteration 900: 0.676332\n",
      "Train Acc: 62.666666666666664 %\n",
      "Test Acc: 63.333333333333336 %\n",
      "Cost after iteration 0: 0.693316\n",
      "Cost after iteration 100: 0.516384\n",
      "Cost after iteration 200: 0.403949\n",
      "Cost after iteration 300: 0.329116\n",
      "Cost after iteration 400: 0.276857\n",
      "Cost after iteration 500: 0.238755\n",
      "Cost after iteration 600: 0.209940\n",
      "Cost after iteration 700: 0.187475\n",
      "Cost after iteration 800: 0.169509\n",
      "Cost after iteration 900: 0.154834\n",
      "Train Acc: 99.33333333333333 %\n",
      "Test Acc: 100.0 %\n"
     ]
    },
    {
     "data": {
      "image/png": "[encoded data removed]",
      "text/plain": [
       "<Figure size 432x288 with 1 Axes>"
      ]
     },
     "metadata": {
      "needs_background": "light"
     },
     "output_type": "display_data"
    }
   ],
   "source": [
    "costs5 = model(x_train.T, y_train.reshape(y_train.shape[0],1).T, x_test.T, y_test.reshape(y_test.shape[0],1).T, iterations = 1000, learning_rate = 0.00005)\n",
    "costs3 = model(x_train.T, y_train.reshape(y_train.shape[0],1).T, x_test.T, y_test.reshape(y_test.shape[0],1).T, iterations = 1000, learning_rate = 0.005)\n",
    "\n",
    "plt.plot(costs3, 'r.', label='LR=0.005')\n",
    "plt.plot(costs, 'b-', label='LR=0.0005')\n",
    "plt.plot(costs5, 'g--', label='LR=0.00005')\n",
    "plt.ylabel('cost')\n",
    "plt.xlabel('iterations')\n",
    "plt.title(\"Training history with different learning rate\")\n",
    "plt.legend()\n",
    "plt.show()"
   ]
  },
  {
   "cell_type": "markdown",
   "metadata": {},
   "source": [
    "This is the case of a single layer ANN. With similar concept we can extend the number of layers, $L$, to a larger number, while the code will be a bit more complicated (because the formulation can be different for input, hidden, and output layuers). Also, if we want a different *activation function* or a different *cost/loss function*, we need to re-derive the formulation and change certain part of the code.\n",
    "\n",
    "Fortunately, we now have well-maintained packages for our problem, so that we can implement a complicated model with a few lines of code."
   ]
  },
  {
   "cell_type": "code",
   "execution_count": null,
   "metadata": {},
   "outputs": [],
   "source": []
  }
 ],
 "metadata": {
  "kernelspec": {
   "display_name": "Python 3",
   "language": "python",
   "name": "python3"
  },
  "language_info": {
   "codemirror_mode": {
    "name": "ipython",
    "version": 3
   },
   "file_extension": ".py",
   "mimetype": "text/x-python",
   "name": "python",
   "nbconvert_exporter": "python",
   "pygments_lexer": "ipython3",
   "version": "3.7.9"
  }
 },
 "nbformat": 4,
 "nbformat_minor": 4
}
